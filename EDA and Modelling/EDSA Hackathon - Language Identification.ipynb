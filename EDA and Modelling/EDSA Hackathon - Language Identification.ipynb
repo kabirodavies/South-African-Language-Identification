{
  "nbformat": 4,
  "nbformat_minor": 0,
  "metadata": {
    "colab": {
      "name": "S_A_Language Identification.ipynb",
      "provenance": [],
      "collapsed_sections": []
    },
    "kernelspec": {
      "name": "python3",
      "display_name": "Python 3"
    },
    "language_info": {
      "name": "python"
    }
  },
  "cells": [
    {
      "cell_type": "code",
      "metadata": {
        "id": "fQur8jMpT6Fl"
      },
      "source": [
        "# !pip install gensim\n",
        "# !pip install python-Levenshtein"
      ],
      "execution_count": 156,
      "outputs": []
    },
    {
      "cell_type": "code",
      "metadata": {
        "id": "39SkSzPuFle1"
      },
      "source": [
        "# Let’s load the libraries\n",
        "\n",
        "import re    # for regular expressions \n",
        "import nltk  # for text manipulation \n",
        "import string \n",
        "import warnings \n",
        "import numpy as np \n",
        "import pandas as pd \n",
        "import seaborn as sns \n",
        "import matplotlib.pyplot as plt\n",
        "\n",
        "from sklearn.feature_extraction.text import TfidfVectorizer, CountVectorizer \n",
        "import gensim\n",
        "\n",
        "pd.set_option(\"display.max_colwidth\", 200) \n",
        "warnings.filterwarnings(\"ignore\", category=DeprecationWarning) \n",
        "\n",
        "%matplotlib inline\n",
        "\n",
        "# Let's be rebels and ignore warnings for now\n",
        "import warnings\n",
        "warnings.filterwarnings('ignore')"
      ],
      "execution_count": 157,
      "outputs": []
    },
    {
      "cell_type": "code",
      "metadata": {
        "colab": {
          "base_uri": "https://localhost:8080/",
          "height": 293
        },
        "id": "41u4fF6sCdFC",
        "outputId": "2f7867bb-b5e5-4025-ac9b-aef9da2eef4d"
      },
      "source": [
        "#Urls\n",
        "url_train = 'https://raw.githubusercontent.com/kabirodavies/S_A_Language-Identification/master/train_set.csv'\n",
        "url_test = 'https://raw.githubusercontent.com/kabirodavies/S_A_Language-Identification/master/test_set.csv'\n",
        "url_sub = 'https://raw.githubusercontent.com/kabirodavies/S_A_Language-Identification/master/sample_submission.csv'\n",
        "\n",
        "\n",
        "train = pd.read_csv(url_train)\n",
        "train.head()\n"
      ],
      "execution_count": 158,
      "outputs": [
        {
          "output_type": "execute_result",
          "data": {
            "text/html": [
              "<div>\n",
              "<style scoped>\n",
              "    .dataframe tbody tr th:only-of-type {\n",
              "        vertical-align: middle;\n",
              "    }\n",
              "\n",
              "    .dataframe tbody tr th {\n",
              "        vertical-align: top;\n",
              "    }\n",
              "\n",
              "    .dataframe thead th {\n",
              "        text-align: right;\n",
              "    }\n",
              "</style>\n",
              "<table border=\"1\" class=\"dataframe\">\n",
              "  <thead>\n",
              "    <tr style=\"text-align: right;\">\n",
              "      <th></th>\n",
              "      <th>lang_id</th>\n",
              "      <th>text</th>\n",
              "    </tr>\n",
              "  </thead>\n",
              "  <tbody>\n",
              "    <tr>\n",
              "      <th>0</th>\n",
              "      <td>xho</td>\n",
              "      <td>umgaqo-siseko wenza amalungiselelo kumaziko axhasa ulawulo lwesininzi kunye nokuthath inxaxheba kwabafazi ezi ziquka phakathi kwezinye zazo ikomishoni yokulingana ngokwesini ikomishoni yamalungelo...</td>\n",
              "    </tr>\n",
              "    <tr>\n",
              "      <th>1</th>\n",
              "      <td>xho</td>\n",
              "      <td>i-dha iya kuba nobulumko bokubeka umsebenzi naphi na kwisebe ngokusekwe kwiimfuno zokusebenza zalo emva kokubonana nomsebenzi kunye okanye imanyano yakhe ukuba ulandulo lomntu onjalo alufanelekang...</td>\n",
              "    </tr>\n",
              "    <tr>\n",
              "      <th>2</th>\n",
              "      <td>eng</td>\n",
              "      <td>the province of kwazulu-natal department of transport invites tenders from established contractors experienced in bridge construction for the construction of the kwajolwayo tugela river pedestrian...</td>\n",
              "    </tr>\n",
              "    <tr>\n",
              "      <th>3</th>\n",
              "      <td>nso</td>\n",
              "      <td>o netefatša gore o ba file dilo ka moka tše le dumelelanego ka tšona mohlala maleri a magolo a a šomišwago go fihlelela meagong e metelele scaffolds a a bolokegilego lefelo la maleba la go šomela ...</td>\n",
              "    </tr>\n",
              "    <tr>\n",
              "      <th>4</th>\n",
              "      <td>ven</td>\n",
              "      <td>khomishini ya ndinganyiso ya mbeu yo ewa maana u ya nga mulayo wa khomishini ya ndinganyiso ya mbeu u thetshelesa mbilaelo dzine dza tshimbilelana na tshialula u ya nga mbeu nahone i ivhea sa fora...</td>\n",
              "    </tr>\n",
              "  </tbody>\n",
              "</table>\n",
              "</div>"
            ],
            "text/plain": [
              "  lang_id                                                                                                                                                                                                     text\n",
              "0     xho  umgaqo-siseko wenza amalungiselelo kumaziko axhasa ulawulo lwesininzi kunye nokuthath inxaxheba kwabafazi ezi ziquka phakathi kwezinye zazo ikomishoni yokulingana ngokwesini ikomishoni yamalungelo...\n",
              "1     xho  i-dha iya kuba nobulumko bokubeka umsebenzi naphi na kwisebe ngokusekwe kwiimfuno zokusebenza zalo emva kokubonana nomsebenzi kunye okanye imanyano yakhe ukuba ulandulo lomntu onjalo alufanelekang...\n",
              "2     eng  the province of kwazulu-natal department of transport invites tenders from established contractors experienced in bridge construction for the construction of the kwajolwayo tugela river pedestrian...\n",
              "3     nso  o netefatša gore o ba file dilo ka moka tše le dumelelanego ka tšona mohlala maleri a magolo a a šomišwago go fihlelela meagong e metelele scaffolds a a bolokegilego lefelo la maleba la go šomela ...\n",
              "4     ven  khomishini ya ndinganyiso ya mbeu yo ewa maana u ya nga mulayo wa khomishini ya ndinganyiso ya mbeu u thetshelesa mbilaelo dzine dza tshimbilelana na tshialula u ya nga mbeu nahone i ivhea sa fora..."
            ]
          },
          "metadata": {},
          "execution_count": 158
        }
      ]
    },
    {
      "cell_type": "code",
      "metadata": {
        "colab": {
          "base_uri": "https://localhost:8080/",
          "height": 206
        },
        "id": "_VuBKj7lGRhb",
        "outputId": "b735fdb0-9861-4c95-de6f-6fd53b1472e9"
      },
      "source": [
        "test = pd.read_csv(url_test)\n",
        "test.head()"
      ],
      "execution_count": 159,
      "outputs": [
        {
          "output_type": "execute_result",
          "data": {
            "text/html": [
              "<div>\n",
              "<style scoped>\n",
              "    .dataframe tbody tr th:only-of-type {\n",
              "        vertical-align: middle;\n",
              "    }\n",
              "\n",
              "    .dataframe tbody tr th {\n",
              "        vertical-align: top;\n",
              "    }\n",
              "\n",
              "    .dataframe thead th {\n",
              "        text-align: right;\n",
              "    }\n",
              "</style>\n",
              "<table border=\"1\" class=\"dataframe\">\n",
              "  <thead>\n",
              "    <tr style=\"text-align: right;\">\n",
              "      <th></th>\n",
              "      <th>index</th>\n",
              "      <th>text</th>\n",
              "    </tr>\n",
              "  </thead>\n",
              "  <tbody>\n",
              "    <tr>\n",
              "      <th>0</th>\n",
              "      <td>1</td>\n",
              "      <td>Mmasepala, fa maemo a a kgethegileng a letlelela kgato eo.</td>\n",
              "    </tr>\n",
              "    <tr>\n",
              "      <th>1</th>\n",
              "      <td>2</td>\n",
              "      <td>Uzakwaziswa ngokufaneleko nakungafuneka eminye imitlolo engezelelako ukuqedelela ukutloliswa kwesibawo sakho.</td>\n",
              "    </tr>\n",
              "    <tr>\n",
              "      <th>2</th>\n",
              "      <td>3</td>\n",
              "      <td>Tshivhumbeo tshi fana na ngano dza vhathu.</td>\n",
              "    </tr>\n",
              "    <tr>\n",
              "      <th>3</th>\n",
              "      <td>4</td>\n",
              "      <td>Kube inja nelikati betingevakala kutsi titsini naticocisana.</td>\n",
              "    </tr>\n",
              "    <tr>\n",
              "      <th>4</th>\n",
              "      <td>5</td>\n",
              "      <td>Winste op buitelandse valuta.</td>\n",
              "    </tr>\n",
              "  </tbody>\n",
              "</table>\n",
              "</div>"
            ],
            "text/plain": [
              "   index                                                                                                           text\n",
              "0      1                                                     Mmasepala, fa maemo a a kgethegileng a letlelela kgato eo.\n",
              "1      2  Uzakwaziswa ngokufaneleko nakungafuneka eminye imitlolo engezelelako ukuqedelela ukutloliswa kwesibawo sakho.\n",
              "2      3                                                                     Tshivhumbeo tshi fana na ngano dza vhathu.\n",
              "3      4                                                   Kube inja nelikati betingevakala kutsi titsini naticocisana.\n",
              "4      5                                                                                  Winste op buitelandse valuta."
            ]
          },
          "metadata": {},
          "execution_count": 159
        }
      ]
    },
    {
      "cell_type": "code",
      "metadata": {
        "colab": {
          "base_uri": "https://localhost:8080/"
        },
        "id": "4hKhtiDjRslk",
        "outputId": "947b1b33-f85b-4845-8947-9b45057943fa"
      },
      "source": [
        "train.shape, test.shape"
      ],
      "execution_count": 160,
      "outputs": [
        {
          "output_type": "execute_result",
          "data": {
            "text/plain": [
              "((33000, 2), (5682, 2))"
            ]
          },
          "metadata": {},
          "execution_count": 160
        }
      ]
    },
    {
      "cell_type": "code",
      "metadata": {
        "colab": {
          "base_uri": "https://localhost:8080/"
        },
        "id": "-J_XBU7ISYN0",
        "outputId": "3cb8ae51-0437-4a41-de4e-d498b46e0c89"
      },
      "source": [
        "combi = train.append(test, ignore_index=True, sort=True)\n",
        "combi.shape"
      ],
      "execution_count": 161,
      "outputs": [
        {
          "output_type": "execute_result",
          "data": {
            "text/plain": [
              "(38682, 3)"
            ]
          },
          "metadata": {},
          "execution_count": 161
        }
      ]
    },
    {
      "cell_type": "code",
      "metadata": {
        "colab": {
          "base_uri": "https://localhost:8080/",
          "height": 293
        },
        "id": "4GVDaNWtSau2",
        "outputId": "d8c39a07-2138-4699-d13c-11403f9c51f7"
      },
      "source": [
        "combi.head()"
      ],
      "execution_count": 162,
      "outputs": [
        {
          "output_type": "execute_result",
          "data": {
            "text/html": [
              "<div>\n",
              "<style scoped>\n",
              "    .dataframe tbody tr th:only-of-type {\n",
              "        vertical-align: middle;\n",
              "    }\n",
              "\n",
              "    .dataframe tbody tr th {\n",
              "        vertical-align: top;\n",
              "    }\n",
              "\n",
              "    .dataframe thead th {\n",
              "        text-align: right;\n",
              "    }\n",
              "</style>\n",
              "<table border=\"1\" class=\"dataframe\">\n",
              "  <thead>\n",
              "    <tr style=\"text-align: right;\">\n",
              "      <th></th>\n",
              "      <th>index</th>\n",
              "      <th>lang_id</th>\n",
              "      <th>text</th>\n",
              "    </tr>\n",
              "  </thead>\n",
              "  <tbody>\n",
              "    <tr>\n",
              "      <th>0</th>\n",
              "      <td>NaN</td>\n",
              "      <td>xho</td>\n",
              "      <td>umgaqo-siseko wenza amalungiselelo kumaziko axhasa ulawulo lwesininzi kunye nokuthath inxaxheba kwabafazi ezi ziquka phakathi kwezinye zazo ikomishoni yokulingana ngokwesini ikomishoni yamalungelo...</td>\n",
              "    </tr>\n",
              "    <tr>\n",
              "      <th>1</th>\n",
              "      <td>NaN</td>\n",
              "      <td>xho</td>\n",
              "      <td>i-dha iya kuba nobulumko bokubeka umsebenzi naphi na kwisebe ngokusekwe kwiimfuno zokusebenza zalo emva kokubonana nomsebenzi kunye okanye imanyano yakhe ukuba ulandulo lomntu onjalo alufanelekang...</td>\n",
              "    </tr>\n",
              "    <tr>\n",
              "      <th>2</th>\n",
              "      <td>NaN</td>\n",
              "      <td>eng</td>\n",
              "      <td>the province of kwazulu-natal department of transport invites tenders from established contractors experienced in bridge construction for the construction of the kwajolwayo tugela river pedestrian...</td>\n",
              "    </tr>\n",
              "    <tr>\n",
              "      <th>3</th>\n",
              "      <td>NaN</td>\n",
              "      <td>nso</td>\n",
              "      <td>o netefatša gore o ba file dilo ka moka tše le dumelelanego ka tšona mohlala maleri a magolo a a šomišwago go fihlelela meagong e metelele scaffolds a a bolokegilego lefelo la maleba la go šomela ...</td>\n",
              "    </tr>\n",
              "    <tr>\n",
              "      <th>4</th>\n",
              "      <td>NaN</td>\n",
              "      <td>ven</td>\n",
              "      <td>khomishini ya ndinganyiso ya mbeu yo ewa maana u ya nga mulayo wa khomishini ya ndinganyiso ya mbeu u thetshelesa mbilaelo dzine dza tshimbilelana na tshialula u ya nga mbeu nahone i ivhea sa fora...</td>\n",
              "    </tr>\n",
              "  </tbody>\n",
              "</table>\n",
              "</div>"
            ],
            "text/plain": [
              "   index  ...                                                                                                                                                                                                     text\n",
              "0    NaN  ...  umgaqo-siseko wenza amalungiselelo kumaziko axhasa ulawulo lwesininzi kunye nokuthath inxaxheba kwabafazi ezi ziquka phakathi kwezinye zazo ikomishoni yokulingana ngokwesini ikomishoni yamalungelo...\n",
              "1    NaN  ...  i-dha iya kuba nobulumko bokubeka umsebenzi naphi na kwisebe ngokusekwe kwiimfuno zokusebenza zalo emva kokubonana nomsebenzi kunye okanye imanyano yakhe ukuba ulandulo lomntu onjalo alufanelekang...\n",
              "2    NaN  ...  the province of kwazulu-natal department of transport invites tenders from established contractors experienced in bridge construction for the construction of the kwajolwayo tugela river pedestrian...\n",
              "3    NaN  ...  o netefatša gore o ba file dilo ka moka tše le dumelelanego ka tšona mohlala maleri a magolo a a šomišwago go fihlelela meagong e metelele scaffolds a a bolokegilego lefelo la maleba la go šomela ...\n",
              "4    NaN  ...  khomishini ya ndinganyiso ya mbeu yo ewa maana u ya nga mulayo wa khomishini ya ndinganyiso ya mbeu u thetshelesa mbilaelo dzine dza tshimbilelana na tshialula u ya nga mbeu nahone i ivhea sa fora...\n",
              "\n",
              "[5 rows x 3 columns]"
            ]
          },
          "metadata": {},
          "execution_count": 162
        }
      ]
    },
    {
      "cell_type": "markdown",
      "metadata": {
        "id": "IqxTo_DhPH44"
      },
      "source": [
        "#Text Pre_processing"
      ]
    },
    {
      "cell_type": "code",
      "metadata": {
        "id": "kQiLWGmZIn5B"
      },
      "source": [
        "#Removing Twitter Handles (@user)\n",
        "def remove_pattern(input_txt, pattern):\n",
        "    r = re.findall(pattern, input_txt)\n",
        "    for i in r:\n",
        "        input_txt = re.sub(i, '', input_txt)\n",
        "    return input_txt"
      ],
      "execution_count": 163,
      "outputs": []
    },
    {
      "cell_type": "code",
      "metadata": {
        "colab": {
          "base_uri": "https://localhost:8080/",
          "height": 710
        },
        "id": "jZ7WUJ75IpYP",
        "outputId": "5bb2cf52-2f9f-4147-cc22-21ca5c718e76"
      },
      "source": [
        "combi['tidy_text'] = np.vectorize(remove_pattern)(combi['text'], \"@[\\w]*\") \n",
        "combi.head(10)"
      ],
      "execution_count": 164,
      "outputs": [
        {
          "output_type": "execute_result",
          "data": {
            "text/html": [
              "<div>\n",
              "<style scoped>\n",
              "    .dataframe tbody tr th:only-of-type {\n",
              "        vertical-align: middle;\n",
              "    }\n",
              "\n",
              "    .dataframe tbody tr th {\n",
              "        vertical-align: top;\n",
              "    }\n",
              "\n",
              "    .dataframe thead th {\n",
              "        text-align: right;\n",
              "    }\n",
              "</style>\n",
              "<table border=\"1\" class=\"dataframe\">\n",
              "  <thead>\n",
              "    <tr style=\"text-align: right;\">\n",
              "      <th></th>\n",
              "      <th>index</th>\n",
              "      <th>lang_id</th>\n",
              "      <th>text</th>\n",
              "      <th>tidy_text</th>\n",
              "    </tr>\n",
              "  </thead>\n",
              "  <tbody>\n",
              "    <tr>\n",
              "      <th>0</th>\n",
              "      <td>NaN</td>\n",
              "      <td>xho</td>\n",
              "      <td>umgaqo-siseko wenza amalungiselelo kumaziko axhasa ulawulo lwesininzi kunye nokuthath inxaxheba kwabafazi ezi ziquka phakathi kwezinye zazo ikomishoni yokulingana ngokwesini ikomishoni yamalungelo...</td>\n",
              "      <td>umgaqo-siseko wenza amalungiselelo kumaziko axhasa ulawulo lwesininzi kunye nokuthath inxaxheba kwabafazi ezi ziquka phakathi kwezinye zazo ikomishoni yokulingana ngokwesini ikomishoni yamalungelo...</td>\n",
              "    </tr>\n",
              "    <tr>\n",
              "      <th>1</th>\n",
              "      <td>NaN</td>\n",
              "      <td>xho</td>\n",
              "      <td>i-dha iya kuba nobulumko bokubeka umsebenzi naphi na kwisebe ngokusekwe kwiimfuno zokusebenza zalo emva kokubonana nomsebenzi kunye okanye imanyano yakhe ukuba ulandulo lomntu onjalo alufanelekang...</td>\n",
              "      <td>i-dha iya kuba nobulumko bokubeka umsebenzi naphi na kwisebe ngokusekwe kwiimfuno zokusebenza zalo emva kokubonana nomsebenzi kunye okanye imanyano yakhe ukuba ulandulo lomntu onjalo alufanelekang...</td>\n",
              "    </tr>\n",
              "    <tr>\n",
              "      <th>2</th>\n",
              "      <td>NaN</td>\n",
              "      <td>eng</td>\n",
              "      <td>the province of kwazulu-natal department of transport invites tenders from established contractors experienced in bridge construction for the construction of the kwajolwayo tugela river pedestrian...</td>\n",
              "      <td>the province of kwazulu-natal department of transport invites tenders from established contractors experienced in bridge construction for the construction of the kwajolwayo tugela river pedestrian...</td>\n",
              "    </tr>\n",
              "    <tr>\n",
              "      <th>3</th>\n",
              "      <td>NaN</td>\n",
              "      <td>nso</td>\n",
              "      <td>o netefatša gore o ba file dilo ka moka tše le dumelelanego ka tšona mohlala maleri a magolo a a šomišwago go fihlelela meagong e metelele scaffolds a a bolokegilego lefelo la maleba la go šomela ...</td>\n",
              "      <td>o netefatša gore o ba file dilo ka moka tše le dumelelanego ka tšona mohlala maleri a magolo a a šomišwago go fihlelela meagong e metelele scaffolds a a bolokegilego lefelo la maleba la go šomela ...</td>\n",
              "    </tr>\n",
              "    <tr>\n",
              "      <th>4</th>\n",
              "      <td>NaN</td>\n",
              "      <td>ven</td>\n",
              "      <td>khomishini ya ndinganyiso ya mbeu yo ewa maana u ya nga mulayo wa khomishini ya ndinganyiso ya mbeu u thetshelesa mbilaelo dzine dza tshimbilelana na tshialula u ya nga mbeu nahone i ivhea sa fora...</td>\n",
              "      <td>khomishini ya ndinganyiso ya mbeu yo ewa maana u ya nga mulayo wa khomishini ya ndinganyiso ya mbeu u thetshelesa mbilaelo dzine dza tshimbilelana na tshialula u ya nga mbeu nahone i ivhea sa fora...</td>\n",
              "    </tr>\n",
              "    <tr>\n",
              "      <th>5</th>\n",
              "      <td>NaN</td>\n",
              "      <td>nso</td>\n",
              "      <td>dinyakišišo tše tša go dirwa gabedi ka ngwaga di tla lebelela diphetogo tša mebaraka ya mešomo le mekgwa ga mmogo le go thapiwa mešomong ka makaleng ao mešomo ao lego molaong le ao a sego molaong ...</td>\n",
              "      <td>dinyakišišo tše tša go dirwa gabedi ka ngwaga di tla lebelela diphetogo tša mebaraka ya mešomo le mekgwa ga mmogo le go thapiwa mešomong ka makaleng ao mešomo ao lego molaong le ao a sego molaong ...</td>\n",
              "    </tr>\n",
              "    <tr>\n",
              "      <th>6</th>\n",
              "      <td>NaN</td>\n",
              "      <td>tsn</td>\n",
              "      <td>kgetse nngwe le nngwe e e sa faposiwang mo tshekong go ya ka temana ya a e tshwanetse kwa ntle ga fa kgetse e tsholotswe kgotsa e fetiseditswe kwa kgotlatshekelo ya bana ya fetisediwa kwa kgotlats...</td>\n",
              "      <td>kgetse nngwe le nngwe e e sa faposiwang mo tshekong go ya ka temana ya a e tshwanetse kwa ntle ga fa kgetse e tsholotswe kgotsa e fetiseditswe kwa kgotlatshekelo ya bana ya fetisediwa kwa kgotlats...</td>\n",
              "    </tr>\n",
              "    <tr>\n",
              "      <th>7</th>\n",
              "      <td>NaN</td>\n",
              "      <td>ven</td>\n",
              "      <td>mbadelo dze dza laelwa dzi do kwama mahatulele apo a khothe ya madzhisitirata lihoro line la si vhe na mulandu li do vha lone line la wana masheleni ngeno lihoro le la wanwa mulandu li tshi do vha...</td>\n",
              "      <td>mbadelo dze dza laelwa dzi do kwama mahatulele apo a khothe ya madzhisitirata lihoro line la si vhe na mulandu li do vha lone line la wana masheleni ngeno lihoro le la wanwa mulandu li tshi do vha...</td>\n",
              "    </tr>\n",
              "    <tr>\n",
              "      <th>8</th>\n",
              "      <td>NaN</td>\n",
              "      <td>nso</td>\n",
              "      <td>maloko a dikhuduthamaga a ikarabela mongwe le mongwe go tonakgolo le go thteramelao ya profense malebana le taolo ya dipotfolio tša bona mme maloko a mangwe ka moka a khuduthamaga le wona bjalo a ...</td>\n",
              "      <td>maloko a dikhuduthamaga a ikarabela mongwe le mongwe go tonakgolo le go thteramelao ya profense malebana le taolo ya dipotfolio tša bona mme maloko a mangwe ka moka a khuduthamaga le wona bjalo a ...</td>\n",
              "    </tr>\n",
              "    <tr>\n",
              "      <th>9</th>\n",
              "      <td>NaN</td>\n",
              "      <td>tsn</td>\n",
              "      <td>fa le dirisiwa lebone le tshwanetse go bontsha lesedi le le benyabenyang le le bogale jo bo dirang gore le kgone go bonwa ke motho yo o bonang sentle mo leseding le le tlwaelegileng mo sekgaleng s...</td>\n",
              "      <td>fa le dirisiwa lebone le tshwanetse go bontsha lesedi le le benyabenyang le le bogale jo bo dirang gore le kgone go bonwa ke motho yo o bonang sentle mo leseding le le tlwaelegileng mo sekgaleng s...</td>\n",
              "    </tr>\n",
              "  </tbody>\n",
              "</table>\n",
              "</div>"
            ],
            "text/plain": [
              "   index  ...                                                                                                                                                                                                tidy_text\n",
              "0    NaN  ...  umgaqo-siseko wenza amalungiselelo kumaziko axhasa ulawulo lwesininzi kunye nokuthath inxaxheba kwabafazi ezi ziquka phakathi kwezinye zazo ikomishoni yokulingana ngokwesini ikomishoni yamalungelo...\n",
              "1    NaN  ...  i-dha iya kuba nobulumko bokubeka umsebenzi naphi na kwisebe ngokusekwe kwiimfuno zokusebenza zalo emva kokubonana nomsebenzi kunye okanye imanyano yakhe ukuba ulandulo lomntu onjalo alufanelekang...\n",
              "2    NaN  ...  the province of kwazulu-natal department of transport invites tenders from established contractors experienced in bridge construction for the construction of the kwajolwayo tugela river pedestrian...\n",
              "3    NaN  ...  o netefatša gore o ba file dilo ka moka tše le dumelelanego ka tšona mohlala maleri a magolo a a šomišwago go fihlelela meagong e metelele scaffolds a a bolokegilego lefelo la maleba la go šomela ...\n",
              "4    NaN  ...  khomishini ya ndinganyiso ya mbeu yo ewa maana u ya nga mulayo wa khomishini ya ndinganyiso ya mbeu u thetshelesa mbilaelo dzine dza tshimbilelana na tshialula u ya nga mbeu nahone i ivhea sa fora...\n",
              "5    NaN  ...  dinyakišišo tše tša go dirwa gabedi ka ngwaga di tla lebelela diphetogo tša mebaraka ya mešomo le mekgwa ga mmogo le go thapiwa mešomong ka makaleng ao mešomo ao lego molaong le ao a sego molaong ...\n",
              "6    NaN  ...  kgetse nngwe le nngwe e e sa faposiwang mo tshekong go ya ka temana ya a e tshwanetse kwa ntle ga fa kgetse e tsholotswe kgotsa e fetiseditswe kwa kgotlatshekelo ya bana ya fetisediwa kwa kgotlats...\n",
              "7    NaN  ...  mbadelo dze dza laelwa dzi do kwama mahatulele apo a khothe ya madzhisitirata lihoro line la si vhe na mulandu li do vha lone line la wana masheleni ngeno lihoro le la wanwa mulandu li tshi do vha...\n",
              "8    NaN  ...  maloko a dikhuduthamaga a ikarabela mongwe le mongwe go tonakgolo le go thteramelao ya profense malebana le taolo ya dipotfolio tša bona mme maloko a mangwe ka moka a khuduthamaga le wona bjalo a ...\n",
              "9    NaN  ...  fa le dirisiwa lebone le tshwanetse go bontsha lesedi le le benyabenyang le le bogale jo bo dirang gore le kgone go bonwa ke motho yo o bonang sentle mo leseding le le tlwaelegileng mo sekgaleng s...\n",
              "\n",
              "[10 rows x 4 columns]"
            ]
          },
          "metadata": {},
          "execution_count": 164
        }
      ]
    },
    {
      "cell_type": "code",
      "metadata": {
        "colab": {
          "base_uri": "https://localhost:8080/",
          "height": 710
        },
        "id": "Lj-zrymJJNqh",
        "outputId": "a27f6d27-0e4c-4433-9ccc-921baf78d08d"
      },
      "source": [
        "#Removing Punctuations, Numbers, and Special Characters\n",
        "combi.tidy_text = combi.tidy_text.str.replace(\"[^a-zA-Z#]\", \" \")\n",
        "combi.head(10)"
      ],
      "execution_count": 165,
      "outputs": [
        {
          "output_type": "execute_result",
          "data": {
            "text/html": [
              "<div>\n",
              "<style scoped>\n",
              "    .dataframe tbody tr th:only-of-type {\n",
              "        vertical-align: middle;\n",
              "    }\n",
              "\n",
              "    .dataframe tbody tr th {\n",
              "        vertical-align: top;\n",
              "    }\n",
              "\n",
              "    .dataframe thead th {\n",
              "        text-align: right;\n",
              "    }\n",
              "</style>\n",
              "<table border=\"1\" class=\"dataframe\">\n",
              "  <thead>\n",
              "    <tr style=\"text-align: right;\">\n",
              "      <th></th>\n",
              "      <th>index</th>\n",
              "      <th>lang_id</th>\n",
              "      <th>text</th>\n",
              "      <th>tidy_text</th>\n",
              "    </tr>\n",
              "  </thead>\n",
              "  <tbody>\n",
              "    <tr>\n",
              "      <th>0</th>\n",
              "      <td>NaN</td>\n",
              "      <td>xho</td>\n",
              "      <td>umgaqo-siseko wenza amalungiselelo kumaziko axhasa ulawulo lwesininzi kunye nokuthath inxaxheba kwabafazi ezi ziquka phakathi kwezinye zazo ikomishoni yokulingana ngokwesini ikomishoni yamalungelo...</td>\n",
              "      <td>umgaqo siseko wenza amalungiselelo kumaziko axhasa ulawulo lwesininzi kunye nokuthath inxaxheba kwabafazi ezi ziquka phakathi kwezinye zazo ikomishoni yokulingana ngokwesini ikomishoni yamalungelo...</td>\n",
              "    </tr>\n",
              "    <tr>\n",
              "      <th>1</th>\n",
              "      <td>NaN</td>\n",
              "      <td>xho</td>\n",
              "      <td>i-dha iya kuba nobulumko bokubeka umsebenzi naphi na kwisebe ngokusekwe kwiimfuno zokusebenza zalo emva kokubonana nomsebenzi kunye okanye imanyano yakhe ukuba ulandulo lomntu onjalo alufanelekang...</td>\n",
              "      <td>i dha iya kuba nobulumko bokubeka umsebenzi naphi na kwisebe ngokusekwe kwiimfuno zokusebenza zalo emva kokubonana nomsebenzi kunye okanye imanyano yakhe ukuba ulandulo lomntu onjalo alufanelekang...</td>\n",
              "    </tr>\n",
              "    <tr>\n",
              "      <th>2</th>\n",
              "      <td>NaN</td>\n",
              "      <td>eng</td>\n",
              "      <td>the province of kwazulu-natal department of transport invites tenders from established contractors experienced in bridge construction for the construction of the kwajolwayo tugela river pedestrian...</td>\n",
              "      <td>the province of kwazulu natal department of transport invites tenders from established contractors experienced in bridge construction for the construction of the kwajolwayo tugela river pedestrian...</td>\n",
              "    </tr>\n",
              "    <tr>\n",
              "      <th>3</th>\n",
              "      <td>NaN</td>\n",
              "      <td>nso</td>\n",
              "      <td>o netefatša gore o ba file dilo ka moka tše le dumelelanego ka tšona mohlala maleri a magolo a a šomišwago go fihlelela meagong e metelele scaffolds a a bolokegilego lefelo la maleba la go šomela ...</td>\n",
              "      <td>o netefat a gore o ba file dilo ka moka t e le dumelelanego ka t ona mohlala maleri a magolo a a  omi wago go fihlelela meagong e metelele scaffolds a a bolokegilego lefelo la maleba la go  omela ...</td>\n",
              "    </tr>\n",
              "    <tr>\n",
              "      <th>4</th>\n",
              "      <td>NaN</td>\n",
              "      <td>ven</td>\n",
              "      <td>khomishini ya ndinganyiso ya mbeu yo ewa maana u ya nga mulayo wa khomishini ya ndinganyiso ya mbeu u thetshelesa mbilaelo dzine dza tshimbilelana na tshialula u ya nga mbeu nahone i ivhea sa fora...</td>\n",
              "      <td>khomishini ya ndinganyiso ya mbeu yo ewa maana u ya nga mulayo wa khomishini ya ndinganyiso ya mbeu u thetshelesa mbilaelo dzine dza tshimbilelana na tshialula u ya nga mbeu nahone i ivhea sa fora...</td>\n",
              "    </tr>\n",
              "    <tr>\n",
              "      <th>5</th>\n",
              "      <td>NaN</td>\n",
              "      <td>nso</td>\n",
              "      <td>dinyakišišo tše tša go dirwa gabedi ka ngwaga di tla lebelela diphetogo tša mebaraka ya mešomo le mekgwa ga mmogo le go thapiwa mešomong ka makaleng ao mešomo ao lego molaong le ao a sego molaong ...</td>\n",
              "      <td>dinyaki i o t e t a go dirwa gabedi ka ngwaga di tla lebelela diphetogo t a mebaraka ya me omo le mekgwa ga mmogo le go thapiwa me omong ka makaleng ao me omo ao lego molaong le ao a sego molaong ...</td>\n",
              "    </tr>\n",
              "    <tr>\n",
              "      <th>6</th>\n",
              "      <td>NaN</td>\n",
              "      <td>tsn</td>\n",
              "      <td>kgetse nngwe le nngwe e e sa faposiwang mo tshekong go ya ka temana ya a e tshwanetse kwa ntle ga fa kgetse e tsholotswe kgotsa e fetiseditswe kwa kgotlatshekelo ya bana ya fetisediwa kwa kgotlats...</td>\n",
              "      <td>kgetse nngwe le nngwe e e sa faposiwang mo tshekong go ya ka temana ya a e tshwanetse kwa ntle ga fa kgetse e tsholotswe kgotsa e fetiseditswe kwa kgotlatshekelo ya bana ya fetisediwa kwa kgotlats...</td>\n",
              "    </tr>\n",
              "    <tr>\n",
              "      <th>7</th>\n",
              "      <td>NaN</td>\n",
              "      <td>ven</td>\n",
              "      <td>mbadelo dze dza laelwa dzi do kwama mahatulele apo a khothe ya madzhisitirata lihoro line la si vhe na mulandu li do vha lone line la wana masheleni ngeno lihoro le la wanwa mulandu li tshi do vha...</td>\n",
              "      <td>mbadelo dze dza laelwa dzi do kwama mahatulele apo a khothe ya madzhisitirata lihoro line la si vhe na mulandu li do vha lone line la wana masheleni ngeno lihoro le la wanwa mulandu li tshi do vha...</td>\n",
              "    </tr>\n",
              "    <tr>\n",
              "      <th>8</th>\n",
              "      <td>NaN</td>\n",
              "      <td>nso</td>\n",
              "      <td>maloko a dikhuduthamaga a ikarabela mongwe le mongwe go tonakgolo le go thteramelao ya profense malebana le taolo ya dipotfolio tša bona mme maloko a mangwe ka moka a khuduthamaga le wona bjalo a ...</td>\n",
              "      <td>maloko a dikhuduthamaga a ikarabela mongwe le mongwe go tonakgolo le go thteramelao ya profense malebana le taolo ya dipotfolio t a bona mme maloko a mangwe ka moka a khuduthamaga le wona bjalo a ...</td>\n",
              "    </tr>\n",
              "    <tr>\n",
              "      <th>9</th>\n",
              "      <td>NaN</td>\n",
              "      <td>tsn</td>\n",
              "      <td>fa le dirisiwa lebone le tshwanetse go bontsha lesedi le le benyabenyang le le bogale jo bo dirang gore le kgone go bonwa ke motho yo o bonang sentle mo leseding le le tlwaelegileng mo sekgaleng s...</td>\n",
              "      <td>fa le dirisiwa lebone le tshwanetse go bontsha lesedi le le benyabenyang le le bogale jo bo dirang gore le kgone go bonwa ke motho yo o bonang sentle mo leseding le le tlwaelegileng mo sekgaleng s...</td>\n",
              "    </tr>\n",
              "  </tbody>\n",
              "</table>\n",
              "</div>"
            ],
            "text/plain": [
              "   index  ...                                                                                                                                                                                                tidy_text\n",
              "0    NaN  ...  umgaqo siseko wenza amalungiselelo kumaziko axhasa ulawulo lwesininzi kunye nokuthath inxaxheba kwabafazi ezi ziquka phakathi kwezinye zazo ikomishoni yokulingana ngokwesini ikomishoni yamalungelo...\n",
              "1    NaN  ...  i dha iya kuba nobulumko bokubeka umsebenzi naphi na kwisebe ngokusekwe kwiimfuno zokusebenza zalo emva kokubonana nomsebenzi kunye okanye imanyano yakhe ukuba ulandulo lomntu onjalo alufanelekang...\n",
              "2    NaN  ...  the province of kwazulu natal department of transport invites tenders from established contractors experienced in bridge construction for the construction of the kwajolwayo tugela river pedestrian...\n",
              "3    NaN  ...  o netefat a gore o ba file dilo ka moka t e le dumelelanego ka t ona mohlala maleri a magolo a a  omi wago go fihlelela meagong e metelele scaffolds a a bolokegilego lefelo la maleba la go  omela ...\n",
              "4    NaN  ...  khomishini ya ndinganyiso ya mbeu yo ewa maana u ya nga mulayo wa khomishini ya ndinganyiso ya mbeu u thetshelesa mbilaelo dzine dza tshimbilelana na tshialula u ya nga mbeu nahone i ivhea sa fora...\n",
              "5    NaN  ...  dinyaki i o t e t a go dirwa gabedi ka ngwaga di tla lebelela diphetogo t a mebaraka ya me omo le mekgwa ga mmogo le go thapiwa me omong ka makaleng ao me omo ao lego molaong le ao a sego molaong ...\n",
              "6    NaN  ...  kgetse nngwe le nngwe e e sa faposiwang mo tshekong go ya ka temana ya a e tshwanetse kwa ntle ga fa kgetse e tsholotswe kgotsa e fetiseditswe kwa kgotlatshekelo ya bana ya fetisediwa kwa kgotlats...\n",
              "7    NaN  ...  mbadelo dze dza laelwa dzi do kwama mahatulele apo a khothe ya madzhisitirata lihoro line la si vhe na mulandu li do vha lone line la wana masheleni ngeno lihoro le la wanwa mulandu li tshi do vha...\n",
              "8    NaN  ...  maloko a dikhuduthamaga a ikarabela mongwe le mongwe go tonakgolo le go thteramelao ya profense malebana le taolo ya dipotfolio t a bona mme maloko a mangwe ka moka a khuduthamaga le wona bjalo a ...\n",
              "9    NaN  ...  fa le dirisiwa lebone le tshwanetse go bontsha lesedi le le benyabenyang le le bogale jo bo dirang gore le kgone go bonwa ke motho yo o bonang sentle mo leseding le le tlwaelegileng mo sekgaleng s...\n",
              "\n",
              "[10 rows x 4 columns]"
            ]
          },
          "metadata": {},
          "execution_count": 165
        }
      ]
    },
    {
      "cell_type": "code",
      "metadata": {
        "colab": {
          "base_uri": "https://localhost:8080/",
          "height": 710
        },
        "id": "WIhY-y-WJNki",
        "outputId": "b2928516-7425-47f5-b8bd-19ec21a7c264"
      },
      "source": [
        "#Removing Short Words\n",
        "combi.tidy_text = combi.tidy_text.apply(lambda x: ' '.join([w for w in x.split() if len(w) > 2]))\n",
        "combi.head(10)"
      ],
      "execution_count": 166,
      "outputs": [
        {
          "output_type": "execute_result",
          "data": {
            "text/html": [
              "<div>\n",
              "<style scoped>\n",
              "    .dataframe tbody tr th:only-of-type {\n",
              "        vertical-align: middle;\n",
              "    }\n",
              "\n",
              "    .dataframe tbody tr th {\n",
              "        vertical-align: top;\n",
              "    }\n",
              "\n",
              "    .dataframe thead th {\n",
              "        text-align: right;\n",
              "    }\n",
              "</style>\n",
              "<table border=\"1\" class=\"dataframe\">\n",
              "  <thead>\n",
              "    <tr style=\"text-align: right;\">\n",
              "      <th></th>\n",
              "      <th>index</th>\n",
              "      <th>lang_id</th>\n",
              "      <th>text</th>\n",
              "      <th>tidy_text</th>\n",
              "    </tr>\n",
              "  </thead>\n",
              "  <tbody>\n",
              "    <tr>\n",
              "      <th>0</th>\n",
              "      <td>NaN</td>\n",
              "      <td>xho</td>\n",
              "      <td>umgaqo-siseko wenza amalungiselelo kumaziko axhasa ulawulo lwesininzi kunye nokuthath inxaxheba kwabafazi ezi ziquka phakathi kwezinye zazo ikomishoni yokulingana ngokwesini ikomishoni yamalungelo...</td>\n",
              "      <td>umgaqo siseko wenza amalungiselelo kumaziko axhasa ulawulo lwesininzi kunye nokuthath inxaxheba kwabafazi ezi ziquka phakathi kwezinye zazo ikomishoni yokulingana ngokwesini ikomishoni yamalungelo...</td>\n",
              "    </tr>\n",
              "    <tr>\n",
              "      <th>1</th>\n",
              "      <td>NaN</td>\n",
              "      <td>xho</td>\n",
              "      <td>i-dha iya kuba nobulumko bokubeka umsebenzi naphi na kwisebe ngokusekwe kwiimfuno zokusebenza zalo emva kokubonana nomsebenzi kunye okanye imanyano yakhe ukuba ulandulo lomntu onjalo alufanelekang...</td>\n",
              "      <td>dha iya kuba nobulumko bokubeka umsebenzi naphi kwisebe ngokusekwe kwiimfuno zokusebenza zalo emva kokubonana nomsebenzi kunye okanye imanyano yakhe ukuba ulandulo lomntu onjalo alufanelekanga dha...</td>\n",
              "    </tr>\n",
              "    <tr>\n",
              "      <th>2</th>\n",
              "      <td>NaN</td>\n",
              "      <td>eng</td>\n",
              "      <td>the province of kwazulu-natal department of transport invites tenders from established contractors experienced in bridge construction for the construction of the kwajolwayo tugela river pedestrian...</td>\n",
              "      <td>the province kwazulu natal department transport invites tenders from established contractors experienced bridge construction for the construction the kwajolwayo tugela river pedestrian bridge near...</td>\n",
              "    </tr>\n",
              "    <tr>\n",
              "      <th>3</th>\n",
              "      <td>NaN</td>\n",
              "      <td>nso</td>\n",
              "      <td>o netefatša gore o ba file dilo ka moka tše le dumelelanego ka tšona mohlala maleri a magolo a a šomišwago go fihlelela meagong e metelele scaffolds a a bolokegilego lefelo la maleba la go šomela ...</td>\n",
              "      <td>netefat gore file dilo moka dumelelanego ona mohlala maleri magolo omi wago fihlelela meagong metelele scaffolds bolokegilego lefelo maleba omela phela gabotse bjbj</td>\n",
              "    </tr>\n",
              "    <tr>\n",
              "      <th>4</th>\n",
              "      <td>NaN</td>\n",
              "      <td>ven</td>\n",
              "      <td>khomishini ya ndinganyiso ya mbeu yo ewa maana u ya nga mulayo wa khomishini ya ndinganyiso ya mbeu u thetshelesa mbilaelo dzine dza tshimbilelana na tshialula u ya nga mbeu nahone i ivhea sa fora...</td>\n",
              "      <td>khomishini ndinganyiso mbeu ewa maana nga mulayo khomishini ndinganyiso mbeu thetshelesa mbilaelo dzine dza tshimbilelana tshialula nga mbeu nahone ivhea foramu thungo nga mulayo ndinganyiso</td>\n",
              "    </tr>\n",
              "    <tr>\n",
              "      <th>5</th>\n",
              "      <td>NaN</td>\n",
              "      <td>nso</td>\n",
              "      <td>dinyakišišo tše tša go dirwa gabedi ka ngwaga di tla lebelela diphetogo tša mebaraka ya mešomo le mekgwa ga mmogo le go thapiwa mešomong ka makaleng ao mešomo ao lego molaong le ao a sego molaong ...</td>\n",
              "      <td>dinyaki dirwa gabedi ngwaga tla lebelela diphetogo mebaraka omo mekgwa mmogo thapiwa omong makaleng omo lego molaong sego molaong hloka omo</td>\n",
              "    </tr>\n",
              "    <tr>\n",
              "      <th>6</th>\n",
              "      <td>NaN</td>\n",
              "      <td>tsn</td>\n",
              "      <td>kgetse nngwe le nngwe e e sa faposiwang mo tshekong go ya ka temana ya a e tshwanetse kwa ntle ga fa kgetse e tsholotswe kgotsa e fetiseditswe kwa kgotlatshekelo ya bana ya fetisediwa kwa kgotlats...</td>\n",
              "      <td>kgetse nngwe nngwe faposiwang tshekong temana tshwanetse kwa ntle kgetse tsholotswe kgotsa fetiseditswe kwa kgotlatshekelo bana fetisediwa kwa kgotlatshekelo bosiamisi ngwana gore ikarabele tatofa...</td>\n",
              "    </tr>\n",
              "    <tr>\n",
              "      <th>7</th>\n",
              "      <td>NaN</td>\n",
              "      <td>ven</td>\n",
              "      <td>mbadelo dze dza laelwa dzi do kwama mahatulele apo a khothe ya madzhisitirata lihoro line la si vhe na mulandu li do vha lone line la wana masheleni ngeno lihoro le la wanwa mulandu li tshi do vha...</td>\n",
              "      <td>mbadelo dze dza laelwa dzi kwama mahatulele apo khothe madzhisitirata lihoro line vhe mulandu vha lone line wana masheleni ngeno lihoro wanwa mulandu tshi vha lone line tea lifha ayo masheleni lae...</td>\n",
              "    </tr>\n",
              "    <tr>\n",
              "      <th>8</th>\n",
              "      <td>NaN</td>\n",
              "      <td>nso</td>\n",
              "      <td>maloko a dikhuduthamaga a ikarabela mongwe le mongwe go tonakgolo le go thteramelao ya profense malebana le taolo ya dipotfolio tša bona mme maloko a mangwe ka moka a khuduthamaga le wona bjalo a ...</td>\n",
              "      <td>maloko dikhuduthamaga ikarabela mongwe mongwe tonakgolo thteramelao profense malebana taolo dipotfolio bona mme maloko mangwe moka khuduthamaga wona bjalo ikrabela seboka mabapi phethagat mediro m...</td>\n",
              "    </tr>\n",
              "    <tr>\n",
              "      <th>9</th>\n",
              "      <td>NaN</td>\n",
              "      <td>tsn</td>\n",
              "      <td>fa le dirisiwa lebone le tshwanetse go bontsha lesedi le le benyabenyang le le bogale jo bo dirang gore le kgone go bonwa ke motho yo o bonang sentle mo leseding le le tlwaelegileng mo sekgaleng s...</td>\n",
              "      <td>dirisiwa lebone tshwanetse bontsha lesedi benyabenyang bogale dirang gore kgone bonwa motho bonang sentle leseding tlwaelegileng sekgaleng dimitara</td>\n",
              "    </tr>\n",
              "  </tbody>\n",
              "</table>\n",
              "</div>"
            ],
            "text/plain": [
              "   index  ...                                                                                                                                                                                                tidy_text\n",
              "0    NaN  ...  umgaqo siseko wenza amalungiselelo kumaziko axhasa ulawulo lwesininzi kunye nokuthath inxaxheba kwabafazi ezi ziquka phakathi kwezinye zazo ikomishoni yokulingana ngokwesini ikomishoni yamalungelo...\n",
              "1    NaN  ...  dha iya kuba nobulumko bokubeka umsebenzi naphi kwisebe ngokusekwe kwiimfuno zokusebenza zalo emva kokubonana nomsebenzi kunye okanye imanyano yakhe ukuba ulandulo lomntu onjalo alufanelekanga dha...\n",
              "2    NaN  ...  the province kwazulu natal department transport invites tenders from established contractors experienced bridge construction for the construction the kwajolwayo tugela river pedestrian bridge near...\n",
              "3    NaN  ...                                     netefat gore file dilo moka dumelelanego ona mohlala maleri magolo omi wago fihlelela meagong metelele scaffolds bolokegilego lefelo maleba omela phela gabotse bjbj\n",
              "4    NaN  ...           khomishini ndinganyiso mbeu ewa maana nga mulayo khomishini ndinganyiso mbeu thetshelesa mbilaelo dzine dza tshimbilelana tshialula nga mbeu nahone ivhea foramu thungo nga mulayo ndinganyiso\n",
              "5    NaN  ...                                                              dinyaki dirwa gabedi ngwaga tla lebelela diphetogo mebaraka omo mekgwa mmogo thapiwa omong makaleng omo lego molaong sego molaong hloka omo\n",
              "6    NaN  ...  kgetse nngwe nngwe faposiwang tshekong temana tshwanetse kwa ntle kgetse tsholotswe kgotsa fetiseditswe kwa kgotlatshekelo bana fetisediwa kwa kgotlatshekelo bosiamisi ngwana gore ikarabele tatofa...\n",
              "7    NaN  ...  mbadelo dze dza laelwa dzi kwama mahatulele apo khothe madzhisitirata lihoro line vhe mulandu vha lone line wana masheleni ngeno lihoro wanwa mulandu tshi vha lone line tea lifha ayo masheleni lae...\n",
              "8    NaN  ...  maloko dikhuduthamaga ikarabela mongwe mongwe tonakgolo thteramelao profense malebana taolo dipotfolio bona mme maloko mangwe moka khuduthamaga wona bjalo ikrabela seboka mabapi phethagat mediro m...\n",
              "9    NaN  ...                                                      dirisiwa lebone tshwanetse bontsha lesedi benyabenyang bogale dirang gore kgone bonwa motho bonang sentle leseding tlwaelegileng sekgaleng dimitara\n",
              "\n",
              "[10 rows x 4 columns]"
            ]
          },
          "metadata": {},
          "execution_count": 166
        }
      ]
    },
    {
      "cell_type": "markdown",
      "metadata": {
        "id": "1OWwauB8KRAH"
      },
      "source": [
        "#Text Normalization"
      ]
    },
    {
      "cell_type": "code",
      "metadata": {
        "colab": {
          "base_uri": "https://localhost:8080/"
        },
        "id": "WZruiUc6JNSI",
        "outputId": "15a8603b-7631-48fb-d314-5ab849ef336e"
      },
      "source": [
        "tokenized_text = combi.tidy_text.apply(lambda x: x.split())\n",
        "tokenized_text.head()"
      ],
      "execution_count": 167,
      "outputs": [
        {
          "output_type": "execute_result",
          "data": {
            "text/plain": [
              "0    [umgaqo, siseko, wenza, amalungiselelo, kumaziko, axhasa, ulawulo, lwesininzi, kunye, nokuthath, inxaxheba, kwabafazi, ezi, ziquka, phakathi, kwezinye, zazo, ikomishoni, yokulingana, ngokwesini, i...\n",
              "1    [dha, iya, kuba, nobulumko, bokubeka, umsebenzi, naphi, kwisebe, ngokusekwe, kwiimfuno, zokusebenza, zalo, emva, kokubonana, nomsebenzi, kunye, okanye, imanyano, yakhe, ukuba, ulandulo, lomntu, on...\n",
              "2    [the, province, kwazulu, natal, department, transport, invites, tenders, from, established, contractors, experienced, bridge, construction, for, the, construction, the, kwajolwayo, tugela, river, ...\n",
              "3               [netefat, gore, file, dilo, moka, dumelelanego, ona, mohlala, maleri, magolo, omi, wago, fihlelela, meagong, metelele, scaffolds, bolokegilego, lefelo, maleba, omela, phela, gabotse, bjbj]\n",
              "4    [khomishini, ndinganyiso, mbeu, ewa, maana, nga, mulayo, khomishini, ndinganyiso, mbeu, thetshelesa, mbilaelo, dzine, dza, tshimbilelana, tshialula, nga, mbeu, nahone, ivhea, foramu, thungo, nga, ...\n",
              "Name: tidy_text, dtype: object"
            ]
          },
          "metadata": {},
          "execution_count": 167
        }
      ]
    },
    {
      "cell_type": "code",
      "metadata": {
        "colab": {
          "base_uri": "https://localhost:8080/"
        },
        "id": "yCbLCT_eJNMH",
        "outputId": "e4aa52b5-25fd-43fc-88c9-a03bc4f9d8cf"
      },
      "source": [
        "# Now we can normalize the tokenized text.\n",
        "\n",
        "from nltk.stem.porter import * \n",
        "stemmer = PorterStemmer() \n",
        "tokenized_tweet = tokenized_text.apply(lambda x: [stemmer.stem(i) for i in x]) # stemming\n",
        "tokenized_text.head()"
      ],
      "execution_count": 168,
      "outputs": [
        {
          "output_type": "execute_result",
          "data": {
            "text/plain": [
              "0    [umgaqo, siseko, wenza, amalungiselelo, kumaziko, axhasa, ulawulo, lwesininzi, kunye, nokuthath, inxaxheba, kwabafazi, ezi, ziquka, phakathi, kwezinye, zazo, ikomishoni, yokulingana, ngokwesini, i...\n",
              "1    [dha, iya, kuba, nobulumko, bokubeka, umsebenzi, naphi, kwisebe, ngokusekwe, kwiimfuno, zokusebenza, zalo, emva, kokubonana, nomsebenzi, kunye, okanye, imanyano, yakhe, ukuba, ulandulo, lomntu, on...\n",
              "2    [the, province, kwazulu, natal, department, transport, invites, tenders, from, established, contractors, experienced, bridge, construction, for, the, construction, the, kwajolwayo, tugela, river, ...\n",
              "3               [netefat, gore, file, dilo, moka, dumelelanego, ona, mohlala, maleri, magolo, omi, wago, fihlelela, meagong, metelele, scaffolds, bolokegilego, lefelo, maleba, omela, phela, gabotse, bjbj]\n",
              "4    [khomishini, ndinganyiso, mbeu, ewa, maana, nga, mulayo, khomishini, ndinganyiso, mbeu, thetshelesa, mbilaelo, dzine, dza, tshimbilelana, tshialula, nga, mbeu, nahone, ivhea, foramu, thungo, nga, ...\n",
              "Name: tidy_text, dtype: object"
            ]
          },
          "metadata": {},
          "execution_count": 168
        }
      ]
    },
    {
      "cell_type": "code",
      "metadata": {
        "colab": {
          "base_uri": "https://localhost:8080/",
          "height": 710
        },
        "id": "XKhueN_KJNI8",
        "outputId": "0338cd34-4a7f-4402-b29a-8f5f40871da5"
      },
      "source": [
        "# Now let’s stitch these tokens back together. It can easily be done using nltk’s MosesDetokenizer function.\n",
        "\n",
        "for i in range(len(tokenized_text)):\n",
        "    tokenized_text[i] = ' '.join(tokenized_text[i])    \n",
        "train['tidy_text'] = tokenized_text\n",
        "combi.head(10)"
      ],
      "execution_count": 169,
      "outputs": [
        {
          "output_type": "execute_result",
          "data": {
            "text/html": [
              "<div>\n",
              "<style scoped>\n",
              "    .dataframe tbody tr th:only-of-type {\n",
              "        vertical-align: middle;\n",
              "    }\n",
              "\n",
              "    .dataframe tbody tr th {\n",
              "        vertical-align: top;\n",
              "    }\n",
              "\n",
              "    .dataframe thead th {\n",
              "        text-align: right;\n",
              "    }\n",
              "</style>\n",
              "<table border=\"1\" class=\"dataframe\">\n",
              "  <thead>\n",
              "    <tr style=\"text-align: right;\">\n",
              "      <th></th>\n",
              "      <th>index</th>\n",
              "      <th>lang_id</th>\n",
              "      <th>text</th>\n",
              "      <th>tidy_text</th>\n",
              "    </tr>\n",
              "  </thead>\n",
              "  <tbody>\n",
              "    <tr>\n",
              "      <th>0</th>\n",
              "      <td>NaN</td>\n",
              "      <td>xho</td>\n",
              "      <td>umgaqo-siseko wenza amalungiselelo kumaziko axhasa ulawulo lwesininzi kunye nokuthath inxaxheba kwabafazi ezi ziquka phakathi kwezinye zazo ikomishoni yokulingana ngokwesini ikomishoni yamalungelo...</td>\n",
              "      <td>umgaqo siseko wenza amalungiselelo kumaziko axhasa ulawulo lwesininzi kunye nokuthath inxaxheba kwabafazi ezi ziquka phakathi kwezinye zazo ikomishoni yokulingana ngokwesini ikomishoni yamalungelo...</td>\n",
              "    </tr>\n",
              "    <tr>\n",
              "      <th>1</th>\n",
              "      <td>NaN</td>\n",
              "      <td>xho</td>\n",
              "      <td>i-dha iya kuba nobulumko bokubeka umsebenzi naphi na kwisebe ngokusekwe kwiimfuno zokusebenza zalo emva kokubonana nomsebenzi kunye okanye imanyano yakhe ukuba ulandulo lomntu onjalo alufanelekang...</td>\n",
              "      <td>dha iya kuba nobulumko bokubeka umsebenzi naphi kwisebe ngokusekwe kwiimfuno zokusebenza zalo emva kokubonana nomsebenzi kunye okanye imanyano yakhe ukuba ulandulo lomntu onjalo alufanelekanga dha...</td>\n",
              "    </tr>\n",
              "    <tr>\n",
              "      <th>2</th>\n",
              "      <td>NaN</td>\n",
              "      <td>eng</td>\n",
              "      <td>the province of kwazulu-natal department of transport invites tenders from established contractors experienced in bridge construction for the construction of the kwajolwayo tugela river pedestrian...</td>\n",
              "      <td>the province kwazulu natal department transport invites tenders from established contractors experienced bridge construction for the construction the kwajolwayo tugela river pedestrian bridge near...</td>\n",
              "    </tr>\n",
              "    <tr>\n",
              "      <th>3</th>\n",
              "      <td>NaN</td>\n",
              "      <td>nso</td>\n",
              "      <td>o netefatša gore o ba file dilo ka moka tše le dumelelanego ka tšona mohlala maleri a magolo a a šomišwago go fihlelela meagong e metelele scaffolds a a bolokegilego lefelo la maleba la go šomela ...</td>\n",
              "      <td>netefat gore file dilo moka dumelelanego ona mohlala maleri magolo omi wago fihlelela meagong metelele scaffolds bolokegilego lefelo maleba omela phela gabotse bjbj</td>\n",
              "    </tr>\n",
              "    <tr>\n",
              "      <th>4</th>\n",
              "      <td>NaN</td>\n",
              "      <td>ven</td>\n",
              "      <td>khomishini ya ndinganyiso ya mbeu yo ewa maana u ya nga mulayo wa khomishini ya ndinganyiso ya mbeu u thetshelesa mbilaelo dzine dza tshimbilelana na tshialula u ya nga mbeu nahone i ivhea sa fora...</td>\n",
              "      <td>khomishini ndinganyiso mbeu ewa maana nga mulayo khomishini ndinganyiso mbeu thetshelesa mbilaelo dzine dza tshimbilelana tshialula nga mbeu nahone ivhea foramu thungo nga mulayo ndinganyiso</td>\n",
              "    </tr>\n",
              "    <tr>\n",
              "      <th>5</th>\n",
              "      <td>NaN</td>\n",
              "      <td>nso</td>\n",
              "      <td>dinyakišišo tše tša go dirwa gabedi ka ngwaga di tla lebelela diphetogo tša mebaraka ya mešomo le mekgwa ga mmogo le go thapiwa mešomong ka makaleng ao mešomo ao lego molaong le ao a sego molaong ...</td>\n",
              "      <td>dinyaki dirwa gabedi ngwaga tla lebelela diphetogo mebaraka omo mekgwa mmogo thapiwa omong makaleng omo lego molaong sego molaong hloka omo</td>\n",
              "    </tr>\n",
              "    <tr>\n",
              "      <th>6</th>\n",
              "      <td>NaN</td>\n",
              "      <td>tsn</td>\n",
              "      <td>kgetse nngwe le nngwe e e sa faposiwang mo tshekong go ya ka temana ya a e tshwanetse kwa ntle ga fa kgetse e tsholotswe kgotsa e fetiseditswe kwa kgotlatshekelo ya bana ya fetisediwa kwa kgotlats...</td>\n",
              "      <td>kgetse nngwe nngwe faposiwang tshekong temana tshwanetse kwa ntle kgetse tsholotswe kgotsa fetiseditswe kwa kgotlatshekelo bana fetisediwa kwa kgotlatshekelo bosiamisi ngwana gore ikarabele tatofa...</td>\n",
              "    </tr>\n",
              "    <tr>\n",
              "      <th>7</th>\n",
              "      <td>NaN</td>\n",
              "      <td>ven</td>\n",
              "      <td>mbadelo dze dza laelwa dzi do kwama mahatulele apo a khothe ya madzhisitirata lihoro line la si vhe na mulandu li do vha lone line la wana masheleni ngeno lihoro le la wanwa mulandu li tshi do vha...</td>\n",
              "      <td>mbadelo dze dza laelwa dzi kwama mahatulele apo khothe madzhisitirata lihoro line vhe mulandu vha lone line wana masheleni ngeno lihoro wanwa mulandu tshi vha lone line tea lifha ayo masheleni lae...</td>\n",
              "    </tr>\n",
              "    <tr>\n",
              "      <th>8</th>\n",
              "      <td>NaN</td>\n",
              "      <td>nso</td>\n",
              "      <td>maloko a dikhuduthamaga a ikarabela mongwe le mongwe go tonakgolo le go thteramelao ya profense malebana le taolo ya dipotfolio tša bona mme maloko a mangwe ka moka a khuduthamaga le wona bjalo a ...</td>\n",
              "      <td>maloko dikhuduthamaga ikarabela mongwe mongwe tonakgolo thteramelao profense malebana taolo dipotfolio bona mme maloko mangwe moka khuduthamaga wona bjalo ikrabela seboka mabapi phethagat mediro m...</td>\n",
              "    </tr>\n",
              "    <tr>\n",
              "      <th>9</th>\n",
              "      <td>NaN</td>\n",
              "      <td>tsn</td>\n",
              "      <td>fa le dirisiwa lebone le tshwanetse go bontsha lesedi le le benyabenyang le le bogale jo bo dirang gore le kgone go bonwa ke motho yo o bonang sentle mo leseding le le tlwaelegileng mo sekgaleng s...</td>\n",
              "      <td>dirisiwa lebone tshwanetse bontsha lesedi benyabenyang bogale dirang gore kgone bonwa motho bonang sentle leseding tlwaelegileng sekgaleng dimitara</td>\n",
              "    </tr>\n",
              "  </tbody>\n",
              "</table>\n",
              "</div>"
            ],
            "text/plain": [
              "   index  ...                                                                                                                                                                                                tidy_text\n",
              "0    NaN  ...  umgaqo siseko wenza amalungiselelo kumaziko axhasa ulawulo lwesininzi kunye nokuthath inxaxheba kwabafazi ezi ziquka phakathi kwezinye zazo ikomishoni yokulingana ngokwesini ikomishoni yamalungelo...\n",
              "1    NaN  ...  dha iya kuba nobulumko bokubeka umsebenzi naphi kwisebe ngokusekwe kwiimfuno zokusebenza zalo emva kokubonana nomsebenzi kunye okanye imanyano yakhe ukuba ulandulo lomntu onjalo alufanelekanga dha...\n",
              "2    NaN  ...  the province kwazulu natal department transport invites tenders from established contractors experienced bridge construction for the construction the kwajolwayo tugela river pedestrian bridge near...\n",
              "3    NaN  ...                                     netefat gore file dilo moka dumelelanego ona mohlala maleri magolo omi wago fihlelela meagong metelele scaffolds bolokegilego lefelo maleba omela phela gabotse bjbj\n",
              "4    NaN  ...           khomishini ndinganyiso mbeu ewa maana nga mulayo khomishini ndinganyiso mbeu thetshelesa mbilaelo dzine dza tshimbilelana tshialula nga mbeu nahone ivhea foramu thungo nga mulayo ndinganyiso\n",
              "5    NaN  ...                                                              dinyaki dirwa gabedi ngwaga tla lebelela diphetogo mebaraka omo mekgwa mmogo thapiwa omong makaleng omo lego molaong sego molaong hloka omo\n",
              "6    NaN  ...  kgetse nngwe nngwe faposiwang tshekong temana tshwanetse kwa ntle kgetse tsholotswe kgotsa fetiseditswe kwa kgotlatshekelo bana fetisediwa kwa kgotlatshekelo bosiamisi ngwana gore ikarabele tatofa...\n",
              "7    NaN  ...  mbadelo dze dza laelwa dzi kwama mahatulele apo khothe madzhisitirata lihoro line vhe mulandu vha lone line wana masheleni ngeno lihoro wanwa mulandu tshi vha lone line tea lifha ayo masheleni lae...\n",
              "8    NaN  ...  maloko dikhuduthamaga ikarabela mongwe mongwe tonakgolo thteramelao profense malebana taolo dipotfolio bona mme maloko mangwe moka khuduthamaga wona bjalo ikrabela seboka mabapi phethagat mediro m...\n",
              "9    NaN  ...                                                      dirisiwa lebone tshwanetse bontsha lesedi benyabenyang bogale dirang gore kgone bonwa motho bonang sentle leseding tlwaelegileng sekgaleng dimitara\n",
              "\n",
              "[10 rows x 4 columns]"
            ]
          },
          "metadata": {},
          "execution_count": 169
        }
      ]
    },
    {
      "cell_type": "markdown",
      "metadata": {
        "id": "mjmIUqtqM1aZ"
      },
      "source": [
        "#Understanding the common words used in the tweets: WordCloud"
      ]
    },
    {
      "cell_type": "code",
      "metadata": {
        "colab": {
          "base_uri": "https://localhost:8080/",
          "height": 380
        },
        "id": "NSd--KAEJNDX",
        "outputId": "f0d8205c-a15a-4df1-cfc5-130c01dde2d2"
      },
      "source": [
        "all_words = ' '.join([text for text in combi['tidy_text']]) \n",
        "\n",
        "from wordcloud import WordCloud\n",
        "wordcloud = WordCloud(width=800, height=500, random_state=21, max_font_size=110).generate(all_words) \n",
        "plt.figure(figsize=(10, 7)) \n",
        "plt.imshow(wordcloud, interpolation=\"bilinear\") \n",
        "plt.axis('off')\n",
        "plt.show()"
      ],
      "execution_count": 170,
      "outputs": [
        {
          "output_type": "display_data",
          "data": {
            "image/png": "[encoded data removed]",
            "text/plain": [
              "<Figure size 720x504 with 1 Axes>"
            ]
          },
          "metadata": {
            "needs_background": "light"
          }
        }
      ]
    },
    {
      "cell_type": "markdown",
      "metadata": {
        "id": "zMjAXwvsEv4f"
      },
      "source": [
        "#Bag-of-Words Features"
      ]
    },
    {
      "cell_type": "code",
      "metadata": {
        "colab": {
          "base_uri": "https://localhost:8080/"
        },
        "id": "R184EhO6EyZs",
        "outputId": "a65580ab-b66b-456e-83b3-2f7c2031eb3c"
      },
      "source": [
        "bow_vectorizer = CountVectorizer(max_df=0.90, min_df=2, max_features=1000, stop_words='english')\n",
        "bow = bow_vectorizer.fit_transform(combi['tidy_text'])\n",
        "bow.shape"
      ],
      "execution_count": 171,
      "outputs": [
        {
          "output_type": "execute_result",
          "data": {
            "text/plain": [
              "(38682, 1000)"
            ]
          },
          "metadata": {},
          "execution_count": 171
        }
      ]
    },
    {
      "cell_type": "markdown",
      "metadata": {
        "id": "t1rD2OHTFP5U"
      },
      "source": [
        "#TF-IDF Features"
      ]
    },
    {
      "cell_type": "code",
      "metadata": {
        "colab": {
          "base_uri": "https://localhost:8080/"
        },
        "id": "5qxeTZR5FPl7",
        "outputId": "fd3329ea-cafb-48d4-c644-86d5da539187"
      },
      "source": [
        "tfidf_vectorizer = TfidfVectorizer(max_df=0.90, min_df=2, max_features=1000, stop_words='english')\n",
        "tfidf = tfidf_vectorizer.fit_transform(combi['tidy_text'])\n",
        "tfidf.shape"
      ],
      "execution_count": 172,
      "outputs": [
        {
          "output_type": "execute_result",
          "data": {
            "text/plain": [
              "(38682, 1000)"
            ]
          },
          "metadata": {},
          "execution_count": 172
        }
      ]
    },
    {
      "cell_type": "markdown",
      "metadata": {
        "id": "_wCW6UnuFe5K"
      },
      "source": [
        "#Word2Vec Features"
      ]
    },
    {
      "cell_type": "markdown",
      "metadata": {
        "id": "5U22IhGhNIB5"
      },
      "source": [
        "###1.0 Word2Vec Embeddings"
      ]
    },
    {
      "cell_type": "code",
      "metadata": {
        "id": "gDmvdq9ON4MW"
      },
      "source": [
        "from sklearn.feature_extraction.text import TfidfVectorizer, CountVectorizer \n",
        "import gensim"
      ],
      "execution_count": 173,
      "outputs": []
    },
    {
      "cell_type": "code",
      "metadata": {
        "colab": {
          "base_uri": "https://localhost:8080/"
        },
        "id": "P1u_TAzKJNAx",
        "outputId": "75142dc6-c38e-4336-f943-8c2b63938f4a"
      },
      "source": [
        "%%time\n",
        "tokenized_text = combi['tidy_text'].apply(lambda x: x.split()) # tokenizing \n",
        "\n",
        "model_w2v = gensim.models.Word2Vec(\n",
        "            tokenized_text,\n",
        "            size=200, # desired no. of features/independent variables\n",
        "            window=5, # context window size\n",
        "            min_count=2, # Ignores all words with total frequency lower than 2.                                  \n",
        "            sg = 1, # 1 for skip-gram model\n",
        "            hs = 0,\n",
        "            negative = 10, # for negative sampling\n",
        "            workers= 32, # no.of cores\n",
        "            seed = 34\n",
        ") \n",
        "\n",
        "model_w2v.train(tokenized_text, total_examples= len(combi['tidy_text']), epochs=20)\n"
      ],
      "execution_count": 174,
      "outputs": [
        {
          "output_type": "stream",
          "name": "stdout",
          "text": [
            "CPU times: user 10min 40s, sys: 1.23 s, total: 10min 41s\n",
            "Wall time: 5min 36s\n"
          ]
        }
      ]
    },
    {
      "cell_type": "code",
      "metadata": {
        "colab": {
          "base_uri": "https://localhost:8080/"
        },
        "id": "SN-ySWqmGmJr",
        "outputId": "69f68954-f223-45be-a94c-dcc109e1073a"
      },
      "source": [
        "model_w2v.wv.most_similar(positive=\"food\")"
      ],
      "execution_count": 175,
      "outputs": [
        {
          "output_type": "execute_result",
          "data": {
            "text/plain": [
              "[('sustenance', 0.9376916289329529),\n",
              " ('automotive', 0.9373458623886108),\n",
              " ('footwear', 0.9328272342681885),\n",
              " ('drainage', 0.9297512769699097),\n",
              " ('intermediate', 0.9278039932250977),\n",
              " ('offshore', 0.9264064431190491),\n",
              " ('clothing', 0.9254456758499146),\n",
              " ('supports', 0.9243564605712891),\n",
              " ('technikons', 0.9239825010299683),\n",
              " ('shooting', 0.921413779258728)]"
            ]
          },
          "metadata": {},
          "execution_count": 175
        }
      ]
    },
    {
      "cell_type": "code",
      "metadata": {
        "colab": {
          "base_uri": "https://localhost:8080/"
        },
        "id": "RWIAXIowHHJC",
        "outputId": "1ac095fb-3ee9-41d5-b723-14bbdb58d119"
      },
      "source": [
        "model_w2v.most_similar(positive=\"ukuba\")"
      ],
      "execution_count": 176,
      "outputs": [
        {
          "output_type": "execute_result",
          "data": {
            "text/plain": [
              "[('ngaba', 0.7029260396957397),\n",
              " ('wamagosa', 0.5784666538238525),\n",
              " ('irente', 0.5762131810188293),\n",
              " ('kumagumbi', 0.568055272102356),\n",
              " ('vavanyo', 0.5659321546554565),\n",
              " ('izizalwane', 0.5630699396133423),\n",
              " ('bungqina', 0.5624761581420898),\n",
              " ('azinikeleyo', 0.5623997449874878),\n",
              " ('awuzange', 0.5548620820045471),\n",
              " ('ukuzimasa', 0.5522661209106445)]"
            ]
          },
          "metadata": {},
          "execution_count": 176
        }
      ]
    },
    {
      "cell_type": "code",
      "metadata": {
        "colab": {
          "base_uri": "https://localhost:8080/"
        },
        "id": "AfP7gFsUHXdS",
        "outputId": "41f9f475-9a77-4efd-a3e0-5024bd5f34b8"
      },
      "source": [
        "model_w2v['ukuba']"
      ],
      "execution_count": 177,
      "outputs": [
        {
          "output_type": "execute_result",
          "data": {
            "text/plain": [
              "array([-0.1360068 , -0.08773724,  0.70336574, -0.15209553, -0.6253311 ,\n",
              "       -0.76349247,  0.7901186 , -0.6288177 ,  1.158111  ,  0.42607006,\n",
              "        0.31831074,  0.40024388, -0.36236626,  1.1532732 , -0.72175217,\n",
              "        0.32682663, -0.3950469 ,  0.6466605 , -0.21446401,  0.01943795,\n",
              "       -0.17225757,  0.363082  ,  0.14300835, -0.6653149 , -0.22914238,\n",
              "       -0.8326243 ,  0.30958536,  0.05005104,  0.3953285 , -0.5888517 ,\n",
              "        0.49345446,  0.11656579, -0.5436877 , -0.04839623,  0.19716448,\n",
              "        0.07030333,  0.6553254 , -0.5362873 , -0.21273877,  0.19890238,\n",
              "        0.01452408,  0.5627255 ,  0.77206933,  0.02554448,  0.38501203,\n",
              "        0.3969418 ,  0.66920274, -0.6963925 ,  0.98080844, -0.49248683,\n",
              "        0.27130905, -0.39920843, -0.79178613,  0.6019746 ,  0.03810793,\n",
              "       -0.31543466, -0.4525474 ,  0.30994302, -0.09809274, -0.49703172,\n",
              "       -0.06587911, -0.23991163, -0.1291701 , -0.1569464 , -0.00477954,\n",
              "        0.7356709 ,  0.53973436, -0.48328972,  0.98116773, -0.36353043,\n",
              "        0.48080292, -1.1390021 , -0.00822466, -0.12212977, -0.9746769 ,\n",
              "        0.4081568 ,  0.8120796 , -0.4443357 ,  0.08264951,  0.553087  ,\n",
              "       -0.1388136 ,  0.5739041 , -0.34574112,  0.2890223 , -0.3880488 ,\n",
              "       -0.46034998,  0.82789034, -0.34719652, -0.73529786,  0.9051185 ,\n",
              "       -0.17002213, -0.34331423,  0.42815986,  0.19184168, -0.52585053,\n",
              "       -0.65918034,  0.24265558, -0.20941867,  0.11856726,  0.05623517,\n",
              "       -0.8120778 , -0.8845187 , -0.03138521, -0.10797227,  0.01996139,\n",
              "       -0.50139034,  0.06921721,  0.43091246,  0.31577227, -0.87892073,\n",
              "        0.01399851, -0.24264471, -0.8088604 ,  0.43611327, -0.43671808,\n",
              "       -0.19705538,  0.75048774,  0.45055738,  0.8706014 , -0.51564807,\n",
              "       -0.29417393, -1.0812019 , -0.37997544, -0.81921256,  0.07508733,\n",
              "       -0.16034603,  0.11596785,  0.1466543 ,  0.28347984, -0.3301247 ,\n",
              "       -0.5177318 , -0.38241833, -0.02291651,  0.23991132, -1.1309489 ,\n",
              "       -0.1523164 , -0.03733974, -0.3005844 ,  0.6589003 , -0.354691  ,\n",
              "        0.23346452, -0.7105341 , -0.12694442, -0.12906012,  0.36182317,\n",
              "       -0.6254973 , -0.44003087, -0.5694278 , -0.59182125, -0.55384266,\n",
              "       -0.03967372, -0.4603101 , -0.06427604, -0.8235178 , -0.0256364 ,\n",
              "       -0.3143535 , -0.38014007, -1.0119709 , -1.2043203 , -0.35092908,\n",
              "        0.76641595,  0.2263732 ,  0.4373611 ,  0.10566679, -0.908358  ,\n",
              "       -0.474021  ,  0.39459142, -1.0534614 , -0.14371614,  0.9367608 ,\n",
              "       -0.736682  , -0.38137838,  0.31682274,  0.01690541,  0.40286055,\n",
              "        0.07615762,  0.9926967 , -0.62404037, -0.02872923, -0.21102948,\n",
              "        0.5674421 ,  0.5907885 ,  0.6638231 ,  0.3970339 , -0.44441327,\n",
              "        0.3690142 ,  0.09639646,  0.69356805,  0.10455155,  0.38202682,\n",
              "        0.24880876, -0.32248417, -0.35998785,  0.06010533, -0.59644157,\n",
              "       -0.16434449, -0.698125  , -0.31516963,  0.3048945 , -0.93089724],\n",
              "      dtype=float32)"
            ]
          },
          "metadata": {},
          "execution_count": 177
        }
      ]
    },
    {
      "cell_type": "code",
      "metadata": {
        "colab": {
          "base_uri": "https://localhost:8080/"
        },
        "id": "pAJlEL5wHv75",
        "outputId": "85941fae-e70f-4ae3-8a66-8e34febd65ce"
      },
      "source": [
        "len(model_w2v['food']) #The length of the vector is 200"
      ],
      "execution_count": 178,
      "outputs": [
        {
          "output_type": "execute_result",
          "data": {
            "text/plain": [
              "200"
            ]
          },
          "metadata": {},
          "execution_count": 178
        }
      ]
    },
    {
      "cell_type": "markdown",
      "metadata": {
        "id": "Citz7FTTWDmU"
      },
      "source": [
        "###Preparing Vectors for text"
      ]
    },
    {
      "cell_type": "code",
      "metadata": {
        "id": "cIM6l51WJM6t"
      },
      "source": [
        "def word_vector(tokens, size):\n",
        "    vec = np.zeros(size).reshape((1, size))\n",
        "    count = 0\n",
        "    for word in tokens:\n",
        "        try:\n",
        "            vec += model_w2v[word].reshape((1, size))\n",
        "            count += 1.\n",
        "        except KeyError:  # handling the case where the token is not in vocabulary\n",
        "            continue\n",
        "    if count != 0:\n",
        "        vec /= count\n",
        "    return vec"
      ],
      "execution_count": 179,
      "outputs": []
    },
    {
      "cell_type": "code",
      "metadata": {
        "colab": {
          "base_uri": "https://localhost:8080/"
        },
        "id": "xcc1mj1TJM3c",
        "outputId": "477a2f72-aa85-427b-85f3-e531b4fcf761"
      },
      "source": [
        "wordvec_arrays = np.zeros((len(tokenized_text), 200)) \n",
        "for i in range(len(tokenized_text)):\n",
        "    wordvec_arrays[i,:] = word_vector(tokenized_text[i], 200)\n",
        "wordvec_df = pd.DataFrame(wordvec_arrays)\n",
        "wordvec_df.shape"
      ],
      "execution_count": 180,
      "outputs": [
        {
          "output_type": "execute_result",
          "data": {
            "text/plain": [
              "(38682, 200)"
            ]
          },
          "metadata": {},
          "execution_count": 180
        }
      ]
    },
    {
      "cell_type": "markdown",
      "metadata": {
        "id": "i3yMfn84JJQy"
      },
      "source": [
        "##2. Doc2Vec Embedding"
      ]
    },
    {
      "cell_type": "markdown",
      "metadata": {
        "id": "gf8TwVD2WgJ9"
      },
      "source": [
        "###More libraries"
      ]
    },
    {
      "cell_type": "code",
      "metadata": {
        "id": "QG3ONxuzJMz4"
      },
      "source": [
        "from tqdm import tqdm \n",
        "tqdm.pandas(desc=\"progress-bar\") \n",
        "from gensim.models.doc2vec import LabeledSentence"
      ],
      "execution_count": 181,
      "outputs": []
    },
    {
      "cell_type": "markdown",
      "metadata": {
        "id": "OFvN-zbvWwnh"
      },
      "source": [
        "####To implement doc2vec, we have to labelise or tag each tokenised tweet with unique IDs. We can do so by using Gensim’s LabeledSentence() function."
      ]
    },
    {
      "cell_type": "code",
      "metadata": {
        "id": "B1n7aSHnJMuE"
      },
      "source": [
        "def add_label(twt):\n",
        "    output = []\n",
        "    for i, s in zip(twt.index, twt):\n",
        "        output.append(LabeledSentence(s, [\"text_\" + str(i)]))\n",
        "    return output\n",
        "\n",
        "labeled_text = add_label(tokenized_text) # label all the tweets"
      ],
      "execution_count": 182,
      "outputs": []
    },
    {
      "cell_type": "code",
      "metadata": {
        "colab": {
          "base_uri": "https://localhost:8080/"
        },
        "id": "SNQawmTkJMoV",
        "outputId": "109cefae-b332-4391-e921-a6b43a586e5b"
      },
      "source": [
        "labeled_text[:6]"
      ],
      "execution_count": 183,
      "outputs": [
        {
          "output_type": "execute_result",
          "data": {
            "text/plain": [
              "[LabeledSentence(words=['umgaqo', 'siseko', 'wenza', 'amalungiselelo', 'kumaziko', 'axhasa', 'ulawulo', 'lwesininzi', 'kunye', 'nokuthath', 'inxaxheba', 'kwabafazi', 'ezi', 'ziquka', 'phakathi', 'kwezinye', 'zazo', 'ikomishoni', 'yokulingana', 'ngokwesini', 'ikomishoni', 'yamalungelo', 'oluntu', 'lomzantsi', 'afrika'], tags=['text_0']),\n",
              " LabeledSentence(words=['dha', 'iya', 'kuba', 'nobulumko', 'bokubeka', 'umsebenzi', 'naphi', 'kwisebe', 'ngokusekwe', 'kwiimfuno', 'zokusebenza', 'zalo', 'emva', 'kokubonana', 'nomsebenzi', 'kunye', 'okanye', 'imanyano', 'yakhe', 'ukuba', 'ulandulo', 'lomntu', 'onjalo', 'alufanelekanga', 'dha', 'mayibize', 'uncedo', 'olufanelekileyo', 'elungelweni', 'layo'], tags=['text_1']),\n",
              " LabeledSentence(words=['the', 'province', 'kwazulu', 'natal', 'department', 'transport', 'invites', 'tenders', 'from', 'established', 'contractors', 'experienced', 'bridge', 'construction', 'for', 'the', 'construction', 'the', 'kwajolwayo', 'tugela', 'river', 'pedestrian', 'bridge', 'near', 'tugela', 'ferry', 'the', 'duration', 'the', 'project', 'will', 'months'], tags=['text_2']),\n",
              " LabeledSentence(words=['netefat', 'gore', 'file', 'dilo', 'moka', 'dumelelanego', 'ona', 'mohlala', 'maleri', 'magolo', 'omi', 'wago', 'fihlelela', 'meagong', 'metelele', 'scaffolds', 'bolokegilego', 'lefelo', 'maleba', 'omela', 'phela', 'gabotse', 'bjbj'], tags=['text_3']),\n",
              " LabeledSentence(words=['khomishini', 'ndinganyiso', 'mbeu', 'ewa', 'maana', 'nga', 'mulayo', 'khomishini', 'ndinganyiso', 'mbeu', 'thetshelesa', 'mbilaelo', 'dzine', 'dza', 'tshimbilelana', 'tshialula', 'nga', 'mbeu', 'nahone', 'ivhea', 'foramu', 'thungo', 'nga', 'mulayo', 'ndinganyiso'], tags=['text_4']),\n",
              " LabeledSentence(words=['dinyaki', 'dirwa', 'gabedi', 'ngwaga', 'tla', 'lebelela', 'diphetogo', 'mebaraka', 'omo', 'mekgwa', 'mmogo', 'thapiwa', 'omong', 'makaleng', 'omo', 'lego', 'molaong', 'sego', 'molaong', 'hloka', 'omo'], tags=['text_5'])]"
            ]
          },
          "metadata": {},
          "execution_count": 183
        }
      ]
    },
    {
      "cell_type": "markdown",
      "metadata": {
        "id": "SKwV4Df3P__W"
      },
      "source": [
        "##Now let’s train a doc2vec model."
      ]
    },
    {
      "cell_type": "code",
      "metadata": {
        "colab": {
          "base_uri": "https://localhost:8080/"
        },
        "id": "38geod5pJMld",
        "outputId": "2cefa644-749e-4ae4-f965-ce197ebaca4c"
      },
      "source": [
        "%%time \n",
        "model_d2v = gensim.models.Doc2Vec(dm=1, # dm = 1 for ‘distributed memory’ model\n",
        "                                  dm_mean=1, # dm_mean = 1 for using mean of the context word vectors\n",
        "                                  vector_size=200, # no. of desired features\n",
        "                                  window=5, # width of the context window                                  \n",
        "                                  negative=7, # if > 0 then negative sampling will be used\n",
        "                                  min_count=5, # Ignores all words with total frequency lower than 5.                                  \n",
        "                                  workers=32, # no. of cores                                  \n",
        "                                  alpha=0.1, # learning rate                                  \n",
        "                                  seed = 23, # for reproducibility\n",
        "                                 ) \n",
        "\n",
        "model_d2v.build_vocab([i for i in tqdm(labeled_text)])\n",
        "\n",
        "model_d2v.train(labeled_text, total_examples= len(train['tidy_text']), epochs=15)"
      ],
      "execution_count": 184,
      "outputs": [
        {
          "output_type": "stream",
          "name": "stderr",
          "text": [
            "100%|██████████| 38682/38682 [00:00<00:00, 664439.10it/s]\n"
          ]
        },
        {
          "output_type": "stream",
          "name": "stdout",
          "text": [
            "CPU times: user 2min 45s, sys: 28.9 s, total: 3min 14s\n",
            "Wall time: 2min 12s\n"
          ]
        }
      ]
    },
    {
      "cell_type": "markdown",
      "metadata": {
        "id": "0j7JC9aoQQfm"
      },
      "source": [
        "####Preparing doc2vec Feature Set"
      ]
    },
    {
      "cell_type": "code",
      "metadata": {
        "colab": {
          "base_uri": "https://localhost:8080/"
        },
        "id": "q5Y144ozJMed",
        "outputId": "92da7d7c-6cc1-4380-f3bb-9af60871c57f"
      },
      "source": [
        "docvec_arrays = np.zeros((len(tokenized_text), 200)) \n",
        "for i in range(len(combi)):\n",
        "    docvec_arrays[i,:] = model_d2v.docvecs[i].reshape((1,200))    \n",
        "\n",
        "docvec_df = pd.DataFrame(docvec_arrays) \n",
        "docvec_df.shape"
      ],
      "execution_count": 185,
      "outputs": [
        {
          "output_type": "execute_result",
          "data": {
            "text/plain": [
              "(38682, 200)"
            ]
          },
          "metadata": {},
          "execution_count": 185
        }
      ]
    },
    {
      "cell_type": "code",
      "metadata": {
        "colab": {
          "base_uri": "https://localhost:8080/"
        },
        "id": "Qame3XKBJ675",
        "outputId": "e75cb445-3960-4ec8-90c1-175bb679a038"
      },
      "source": [
        "docvec_df.shape,  wordvec_df.shape"
      ],
      "execution_count": 186,
      "outputs": [
        {
          "output_type": "execute_result",
          "data": {
            "text/plain": [
              "((38682, 200), (38682, 200))"
            ]
          },
          "metadata": {},
          "execution_count": 186
        }
      ]
    },
    {
      "cell_type": "code",
      "metadata": {
        "colab": {
          "base_uri": "https://localhost:8080/"
        },
        "id": "tCPiAF8xLdV6",
        "outputId": "9ab43c57-aaa9-4401-ab4f-6e857f3ac663"
      },
      "source": [
        "train.shape, test.shape"
      ],
      "execution_count": 187,
      "outputs": [
        {
          "output_type": "execute_result",
          "data": {
            "text/plain": [
              "((33000, 3), (5682, 2))"
            ]
          },
          "metadata": {},
          "execution_count": 187
        }
      ]
    },
    {
      "cell_type": "code",
      "metadata": {
        "id": "slvIBelNR4wR"
      },
      "source": [
        "# Extracting train and test BoW features \n",
        "train_bow = bow[:33000,:] \n",
        "test_bow = bow[33000:,:]"
      ],
      "execution_count": null,
      "outputs": []
    },
    {
      "cell_type": "markdown",
      "metadata": {
        "id": "fdpa0aPnLvoO"
      },
      "source": [
        "#Encoding"
      ]
    },
    {
      "cell_type": "markdown",
      "metadata": {
        "id": "daiIMznLKNiR"
      },
      "source": [
        "Done with all the pre-modeling stages required to get the data in the proper form and shape. We will be building models on the datasets with different feature sets prepared in the earlier sections — Bag-of-Words, TF-IDF, word2vec vectors, and doc2vec vectors. We will use the following algorithms to build models:\n",
        "\n",
        "\n",
        "1.   Logistic Regression\n",
        "2.   Support Vector Machine\n",
        "3.   RandomForest\n",
        "4.   XGBoost"
      ]
    },
    {
      "cell_type": "markdown",
      "metadata": {
        "id": "vExPi2KLy6Gu"
      },
      "source": [
        "###Encoding Cat Var"
      ]
    },
    {
      "cell_type": "code",
      "metadata": {
        "id": "Qmxek7_tMg_i"
      },
      "source": [
        "from sklearn.preprocessing import LabelEncoder\n",
        "\n",
        "le = LabelEncoder()\n",
        "\n",
        "# Transforming categorical variable to label encoded form\n",
        "train['lang_id'] = le.fit_transform(train['lang_id'])\n",
        "# data['lang_id'] = le.inverse_transform(data['lang_id'])\n",
        "# data['lang_id'] "
      ],
      "execution_count": 203,
      "outputs": []
    },
    {
      "cell_type": "markdown",
      "metadata": {
        "id": "Mu5jivY4Q6jc"
      },
      "source": [
        "#Logistic Regression"
      ]
    },
    {
      "cell_type": "code",
      "metadata": {
        "id": "fLBbOG1aQ75H"
      },
      "source": [
        "from sklearn.linear_model import LogisticRegression\n",
        "from sklearn.model_selection import train_test_split\n",
        "#Metrics\n",
        "from sklearn.metrics import classification_report\n",
        "from sklearn.metrics import accuracy_score\n",
        "from sklearn.metrics import f1_score"
      ],
      "execution_count": 211,
      "outputs": []
    },
    {
      "cell_type": "markdown",
      "metadata": {
        "id": "Ba9eCWZZTWwA"
      },
      "source": [
        "##Bag-of-Words Features"
      ]
    },
    {
      "cell_type": "code",
      "metadata": {
        "id": "gaE1g01qOLeX"
      },
      "source": [
        "# Extracting train and test BoW features \n",
        "train_bow = bow[:33000,:] \n",
        "test_bow = bow[33000:,:]\n",
        "\n",
        "# splitting data into training and validation set \n",
        "X_train, X_test, y_train, y_test = train_test_split(train_bow, train['lang_id'], random_state=42, test_size=0.3)\n",
        "\n",
        "lreg = LogisticRegression(solver='lbfgs') \n",
        "\n",
        "# training the model \n",
        "lreg.fit(X_train, y_train) \n",
        "\n",
        "y_pred = lreg.predict(X_test) # predicting"
      ],
      "execution_count": 212,
      "outputs": []
    },
    {
      "cell_type": "code",
      "metadata": {
        "id": "Q2WFBCVVOLap",
        "colab": {
          "base_uri": "https://localhost:8080/"
        },
        "outputId": "ed15cc87-ca16-47b4-d19b-d5ea6523943b"
      },
      "source": [
        "#Metrics\n",
        "# print(confusion_matrix(y_test, y_pred))\n",
        "print(accuracy_score(y_test, y_pred))\n",
        "print(classification_report(y_test, y_pred))\n",
        "# pd.crosstab(y_test,y_pred)"
      ],
      "execution_count": 216,
      "outputs": [
        {
          "output_type": "stream",
          "name": "stdout",
          "text": [
            "0.9588888888888889\n",
            "              precision    recall  f1-score   support\n",
            "\n",
            "           0       1.00      0.99      0.99       895\n",
            "           1       0.91      1.00      0.95       909\n",
            "           2       0.91      0.90      0.91       879\n",
            "           3       0.99      0.99      0.99       941\n",
            "           4       0.99      0.98      0.99       918\n",
            "           5       0.94      0.92      0.93       908\n",
            "           6       0.98      0.98      0.98       882\n",
            "           7       1.00      0.99      1.00       857\n",
            "           8       1.00      0.99      1.00       936\n",
            "           9       0.93      0.92      0.92       922\n",
            "          10       0.90      0.88      0.89       853\n",
            "\n",
            "    accuracy                           0.96      9900\n",
            "   macro avg       0.96      0.96      0.96      9900\n",
            "weighted avg       0.96      0.96      0.96      9900\n",
            "\n"
          ]
        }
      ]
    },
    {
      "cell_type": "markdown",
      "metadata": {
        "id": "8WWPKgDTTTnX"
      },
      "source": [
        "##TF-IDF Features\n"
      ]
    },
    {
      "cell_type": "code",
      "metadata": {
        "id": "b85AOVcHTTVp"
      },
      "source": [
        "# Extracting train and test TF-IDF features \n",
        "train_tfidf = tfidf[:33000,:]\n",
        "test_tfidf = tfidf[33000:,:] \n",
        "\n",
        "# splitting data into training and validation set \n",
        "tX_train, tX_test, ty_train, ty_test = train_test_split(train_tfidf, train['lang_id'], random_state=42, test_size=0.3)\n",
        "\n",
        "td_lreg = LogisticRegression(solver='lbfgs') \n",
        "\n",
        "# training the model \n",
        "td_lreg.fit(tX_train, ty_train) \n",
        "\n",
        "td_y_pred = td_lreg.predict(tX_test) # predicting"
      ],
      "execution_count": 225,
      "outputs": []
    },
    {
      "cell_type": "code",
      "metadata": {
        "colab": {
          "base_uri": "https://localhost:8080/"
        },
        "id": "CiI4MdQrTTRL",
        "outputId": "9f5ff9b5-34a1-41e6-f27a-c4b6cf3a7ba3"
      },
      "source": [
        "#Metrics\n",
        "print(accuracy_score(ty_test, td_y_pred))\n",
        "print(classification_report(ty_test, td_y_pred))\n"
      ],
      "execution_count": 226,
      "outputs": [
        {
          "output_type": "stream",
          "name": "stdout",
          "text": [
            "0.9626262626262626\n",
            "              precision    recall  f1-score   support\n",
            "\n",
            "           0       1.00      1.00      1.00       895\n",
            "           1       0.94      1.00      0.97       909\n",
            "           2       0.91      0.91      0.91       879\n",
            "           3       0.99      0.99      0.99       941\n",
            "           4       0.99      0.99      0.99       918\n",
            "           5       0.94      0.92      0.93       908\n",
            "           6       0.99      0.98      0.98       882\n",
            "           7       1.00      1.00      1.00       857\n",
            "           8       1.00      1.00      1.00       936\n",
            "           9       0.94      0.92      0.93       922\n",
            "          10       0.90      0.89      0.90       853\n",
            "\n",
            "    accuracy                           0.96      9900\n",
            "   macro avg       0.96      0.96      0.96      9900\n",
            "weighted avg       0.96      0.96      0.96      9900\n",
            "\n"
          ]
        }
      ]
    },
    {
      "cell_type": "markdown",
      "metadata": {
        "id": "Gqmvv1rVUvIG"
      },
      "source": [
        "##Word2Vec Features"
      ]
    },
    {
      "cell_type": "code",
      "metadata": {
        "colab": {
          "base_uri": "https://localhost:8080/"
        },
        "id": "UaYu-DUIUuwP",
        "outputId": "227651d4-439b-4286-b924-520eb8fb7747"
      },
      "source": [
        "# Extracting train and test Word2Vec features \n",
        "train_w2v = wordvec_df.iloc[:33000,:]\n",
        "test_w2v = wordvec_df.iloc[33000:,:]\n",
        "\n",
        "# splitting data into training and validation set \n",
        "wX_train, wX_test, wy_train, wy_test = train_test_split(train_w2v, train['lang_id'], random_state=42, test_size=0.3)\n",
        "\n",
        "w_lreg = LogisticRegression(solver='lbfgs') \n",
        "\n",
        "# training the model \n",
        "w_lreg.fit(wX_train, wy_train) "
      ],
      "execution_count": 228,
      "outputs": [
        {
          "output_type": "execute_result",
          "data": {
            "text/plain": [
              "LogisticRegression()"
            ]
          },
          "metadata": {},
          "execution_count": 228
        }
      ]
    },
    {
      "cell_type": "code",
      "metadata": {
        "id": "SHc-9jwoVt7B"
      },
      "source": [
        "w_y_pred = w_lreg.predict(wX_test) # predicting"
      ],
      "execution_count": 229,
      "outputs": []
    },
    {
      "cell_type": "code",
      "metadata": {
        "colab": {
          "base_uri": "https://localhost:8080/"
        },
        "id": "-SLqnlYRUus9",
        "outputId": "bb4f1fdf-d974-4ee1-cbb1-0d68e2dc56bc"
      },
      "source": [
        "#Metrics\n",
        "print(accuracy_score(wy_test, w_y_pred))\n",
        "print(classification_report(wy_test, w_y_pred))"
      ],
      "execution_count": 237,
      "outputs": [
        {
          "output_type": "stream",
          "name": "stdout",
          "text": [
            "0.9992929292929293\n",
            "              precision    recall  f1-score   support\n",
            "\n",
            "           0       1.00      1.00      1.00       895\n",
            "           1       1.00      1.00      1.00       909\n",
            "           2       1.00      1.00      1.00       879\n",
            "           3       1.00      1.00      1.00       941\n",
            "           4       1.00      1.00      1.00       918\n",
            "           5       1.00      1.00      1.00       908\n",
            "           6       1.00      1.00      1.00       882\n",
            "           7       1.00      1.00      1.00       857\n",
            "           8       1.00      1.00      1.00       936\n",
            "           9       1.00      1.00      1.00       922\n",
            "          10       1.00      1.00      1.00       853\n",
            "\n",
            "    accuracy                           1.00      9900\n",
            "   macro avg       1.00      1.00      1.00      9900\n",
            "weighted avg       1.00      1.00      1.00      9900\n",
            "\n"
          ]
        }
      ]
    },
    {
      "cell_type": "markdown",
      "metadata": {
        "id": "97pP56WFWxJ3"
      },
      "source": [
        "##Doc2Vec Features"
      ]
    },
    {
      "cell_type": "code",
      "metadata": {
        "id": "j8obhNZoWwm6"
      },
      "source": [
        "# Extracting train and test Doc2Vec features \n",
        "train_d2v = docvec_df.iloc[:33000,:]\n",
        "test_d2v = docvec_df.iloc[33000:,:]\n",
        "\n",
        "# splitting data into training and validation set \n",
        "dX_train, dX_test, dy_train, dy_test = train_test_split(train_d2v, train['lang_id'], random_state=42, test_size=0.3)\n",
        "\n",
        "d_lreg = LogisticRegression(solver='lbfgs') \n",
        "\n",
        "# training the model \n",
        "d_lreg.fit(dX_train, dy_train) \n",
        "\n",
        "# predicting\n",
        "d_y_pred = d_lreg.predict(dX_test) "
      ],
      "execution_count": 232,
      "outputs": []
    },
    {
      "cell_type": "code",
      "metadata": {
        "colab": {
          "base_uri": "https://localhost:8080/"
        },
        "id": "npw6cs1QUups",
        "outputId": "b629e1f7-ad31-4710-c007-9590d4e3c3b0"
      },
      "source": [
        "#Metrics\n",
        "print(accuracy_score(dy_test, d_y_pred))\n",
        "print(classification_report(dy_test, d_y_pred))"
      ],
      "execution_count": 233,
      "outputs": [
        {
          "output_type": "stream",
          "name": "stdout",
          "text": [
            "0.6932323232323232\n",
            "              precision    recall  f1-score   support\n",
            "\n",
            "           0       0.64      0.60      0.62       895\n",
            "           1       0.58      0.55      0.56       909\n",
            "           2       0.76      0.82      0.79       879\n",
            "           3       0.74      0.77      0.75       941\n",
            "           4       0.73      0.78      0.76       918\n",
            "           5       0.81      0.82      0.81       908\n",
            "           6       0.74      0.79      0.77       882\n",
            "           7       0.48      0.46      0.47       857\n",
            "           8       0.48      0.41      0.44       936\n",
            "           9       0.82      0.85      0.83       922\n",
            "          10       0.77      0.79      0.78       853\n",
            "\n",
            "    accuracy                           0.69      9900\n",
            "   macro avg       0.69      0.69      0.69      9900\n",
            "weighted avg       0.69      0.69      0.69      9900\n",
            "\n"
          ]
        }
      ]
    },
    {
      "cell_type": "markdown",
      "metadata": {
        "id": "UugL8nM8X93W"
      },
      "source": [
        "#2.XGBoost\n"
      ]
    },
    {
      "cell_type": "code",
      "metadata": {
        "id": "vpgAh6u1Uulu"
      },
      "source": [
        "from xgboost import XGBClassifier"
      ],
      "execution_count": 234,
      "outputs": []
    },
    {
      "cell_type": "markdown",
      "metadata": {
        "id": "13bObA1dYIvo"
      },
      "source": [
        "##Word2Vec Features"
      ]
    },
    {
      "cell_type": "code",
      "metadata": {
        "id": "2P44mUnYTTBf"
      },
      "source": [
        "# training the model \n",
        "xgb = XGBClassifier(max_depth=6, n_estimators=1000, nthread= 3)\n",
        "xgb.fit(wX_train, wy_train) \n",
        "xgb_y = xgb.predict(wX_test)"
      ],
      "execution_count": 235,
      "outputs": []
    },
    {
      "cell_type": "code",
      "metadata": {
        "colab": {
          "base_uri": "https://localhost:8080/"
        },
        "id": "Z5NwURnnYgYn",
        "outputId": "4ebb1f77-c5a2-4c19-e036-912acede4a14"
      },
      "source": [
        "#Metrics\n",
        "print(accuracy_score(wy_test, xgb_y))\n",
        "print(classification_report(wy_test, xgb_y))"
      ],
      "execution_count": 238,
      "outputs": [
        {
          "output_type": "stream",
          "name": "stdout",
          "text": [
            "0.9981818181818182\n",
            "              precision    recall  f1-score   support\n",
            "\n",
            "           0       1.00      1.00      1.00       895\n",
            "           1       1.00      1.00      1.00       909\n",
            "           2       0.99      1.00      1.00       879\n",
            "           3       1.00      1.00      1.00       941\n",
            "           4       1.00      1.00      1.00       918\n",
            "           5       1.00      1.00      1.00       908\n",
            "           6       1.00      1.00      1.00       882\n",
            "           7       1.00      1.00      1.00       857\n",
            "           8       1.00      1.00      1.00       936\n",
            "           9       1.00      1.00      1.00       922\n",
            "          10       1.00      1.00      1.00       853\n",
            "\n",
            "    accuracy                           1.00      9900\n",
            "   macro avg       1.00      1.00      1.00      9900\n",
            "weighted avg       1.00      1.00      1.00      9900\n",
            "\n"
          ]
        }
      ]
    },
    {
      "cell_type": "code",
      "metadata": {
        "id": "tsPKAW_1YgR-"
      },
      "source": [
        "#To predict the test data for kaggle submission.\n",
        "final_pred = xgb.predict(test_w2v)"
      ],
      "execution_count": 239,
      "outputs": []
    },
    {
      "cell_type": "code",
      "metadata": {
        "id": "lK1WSzOVfLu6"
      },
      "source": [
        "#Save Model With Pickle\n",
        "import pickle\n",
        "\n",
        "model_save_path = \"xgb_model.pkl\" #SVM\n",
        "with open(model_save_path,'wb') as file:\n",
        "    pickle.dump(xgb,file)"
      ],
      "execution_count": 247,
      "outputs": []
    },
    {
      "cell_type": "code",
      "metadata": {
        "id": "yra2GkaPfRlV"
      },
      "source": [
        "#Open Model With Pickle\n",
        "model_load_path = \"xgb_model.pkl\"\n",
        "with open(model_load_path,'rb') as file:\n",
        "    unpickled_model = pickle.load(file)"
      ],
      "execution_count": 248,
      "outputs": []
    },
    {
      "cell_type": "code",
      "metadata": {
        "id": "rsCFX6whfWhX"
      },
      "source": [
        "# get predictions from unpickled model\n",
        "xgb_pred = unpickled_model.predict(wX_test)"
      ],
      "execution_count": 249,
      "outputs": []
    },
    {
      "cell_type": "markdown",
      "metadata": {
        "id": "JpxZO6FPfE_W"
      },
      "source": [
        "#FineTuning XGBoost + Word2Vec"
      ]
    },
    {
      "cell_type": "code",
      "metadata": {
        "id": "_A24Qo7eTS43"
      },
      "source": [
        "# Parameters that we are going to tune \n",
        "params = {\n",
        "    'objective':'binary:logistic',\n",
        "    'max_depth':6,\n",
        "    'min_child_weight': 1,\n",
        "    'eta':.3,\n",
        "    'subsample': 1,\n",
        "    'colsample_bytree': 1\n",
        " }"
      ],
      "execution_count": 252,
      "outputs": []
    },
    {
      "cell_type": "code",
      "metadata": {
        "id": "Sv_NwoCEgBdp"
      },
      "source": [
        ""
      ],
      "execution_count": null,
      "outputs": []
    },
    {
      "cell_type": "code",
      "metadata": {
        "id": "BDEuUE-PgBaJ"
      },
      "source": [
        ""
      ],
      "execution_count": null,
      "outputs": []
    },
    {
      "cell_type": "code",
      "metadata": {
        "id": "EKP2EQtLgBU6"
      },
      "source": [
        ""
      ],
      "execution_count": null,
      "outputs": []
    },
    {
      "cell_type": "code",
      "metadata": {
        "id": "_2ea2KMGgBQA"
      },
      "source": [
        ""
      ],
      "execution_count": null,
      "outputs": []
    },
    {
      "cell_type": "code",
      "metadata": {
        "id": "FdeuemeJgBMH"
      },
      "source": [
        ""
      ],
      "execution_count": null,
      "outputs": []
    },
    {
      "cell_type": "code",
      "metadata": {
        "id": "otpi2rv9gBIw"
      },
      "source": [
        ""
      ],
      "execution_count": null,
      "outputs": []
    },
    {
      "cell_type": "code",
      "metadata": {
        "id": "3YzYvJrLgBEr"
      },
      "source": [
        ""
      ],
      "execution_count": null,
      "outputs": []
    },
    {
      "cell_type": "code",
      "metadata": {
        "id": "z8BQkTyNgA-3"
      },
      "source": [
        ""
      ],
      "execution_count": null,
      "outputs": []
    },
    {
      "cell_type": "code",
      "metadata": {
        "id": "oY72moGXgA3X"
      },
      "source": [
        ""
      ],
      "execution_count": null,
      "outputs": []
    },
    {
      "cell_type": "code",
      "metadata": {
        "id": "g7V5fLHNgAvO"
      },
      "source": [
        ""
      ],
      "execution_count": null,
      "outputs": []
    },
    {
      "cell_type": "code",
      "metadata": {
        "id": "sQeuzfFwgAmJ"
      },
      "source": [
        ""
      ],
      "execution_count": null,
      "outputs": []
    },
    {
      "cell_type": "code",
      "metadata": {
        "id": "kg2xh0ungAid"
      },
      "source": [
        ""
      ],
      "execution_count": null,
      "outputs": []
    },
    {
      "cell_type": "markdown",
      "metadata": {
        "id": "zbZvPqnOf9vG"
      },
      "source": [
        "#File Submission"
      ]
    },
    {
      "cell_type": "code",
      "metadata": {
        "colab": {
          "base_uri": "https://localhost:8080/",
          "height": 112
        },
        "id": "GpowFxfsTq_M",
        "outputId": "d3ab1f65-c81c-4064-ff7f-0fd863415ee0"
      },
      "source": [
        "sub = pd.read_csv(url_sub)\n",
        "sub.head()"
      ],
      "execution_count": 240,
      "outputs": [
        {
          "output_type": "execute_result",
          "data": {
            "text/html": [
              "<div>\n",
              "<style scoped>\n",
              "    .dataframe tbody tr th:only-of-type {\n",
              "        vertical-align: middle;\n",
              "    }\n",
              "\n",
              "    .dataframe tbody tr th {\n",
              "        vertical-align: top;\n",
              "    }\n",
              "\n",
              "    .dataframe thead th {\n",
              "        text-align: right;\n",
              "    }\n",
              "</style>\n",
              "<table border=\"1\" class=\"dataframe\">\n",
              "  <thead>\n",
              "    <tr style=\"text-align: right;\">\n",
              "      <th></th>\n",
              "      <th>index</th>\n",
              "      <th>lang_id</th>\n",
              "    </tr>\n",
              "  </thead>\n",
              "  <tbody>\n",
              "    <tr>\n",
              "      <th>0</th>\n",
              "      <td>1</td>\n",
              "      <td>tsn</td>\n",
              "    </tr>\n",
              "    <tr>\n",
              "      <th>1</th>\n",
              "      <td>2</td>\n",
              "      <td>nbl</td>\n",
              "    </tr>\n",
              "  </tbody>\n",
              "</table>\n",
              "</div>"
            ],
            "text/plain": [
              "   index lang_id\n",
              "0      1     tsn\n",
              "1      2     nbl"
            ]
          },
          "metadata": {},
          "execution_count": 240
        }
      ]
    },
    {
      "cell_type": "code",
      "metadata": {
        "colab": {
          "base_uri": "https://localhost:8080/",
          "height": 206
        },
        "id": "NnfH2YN2Rcvk",
        "outputId": "07d49ba0-1561-44f6-938e-3fb3bd492ea7"
      },
      "source": [
        "# Create a submisison dataframe and append the relevant columns\n",
        "submission = pd.DataFrame()\n",
        "submission['index'] = test['index']\n",
        "submission['lang_id'] = final_pred # our model predictions on the test dataset\n",
        "submission.head()"
      ],
      "execution_count": 241,
      "outputs": [
        {
          "output_type": "execute_result",
          "data": {
            "text/html": [
              "<div>\n",
              "<style scoped>\n",
              "    .dataframe tbody tr th:only-of-type {\n",
              "        vertical-align: middle;\n",
              "    }\n",
              "\n",
              "    .dataframe tbody tr th {\n",
              "        vertical-align: top;\n",
              "    }\n",
              "\n",
              "    .dataframe thead th {\n",
              "        text-align: right;\n",
              "    }\n",
              "</style>\n",
              "<table border=\"1\" class=\"dataframe\">\n",
              "  <thead>\n",
              "    <tr style=\"text-align: right;\">\n",
              "      <th></th>\n",
              "      <th>index</th>\n",
              "      <th>lang_id</th>\n",
              "    </tr>\n",
              "  </thead>\n",
              "  <tbody>\n",
              "    <tr>\n",
              "      <th>0</th>\n",
              "      <td>1</td>\n",
              "      <td>6</td>\n",
              "    </tr>\n",
              "    <tr>\n",
              "      <th>1</th>\n",
              "      <td>2</td>\n",
              "      <td>2</td>\n",
              "    </tr>\n",
              "    <tr>\n",
              "      <th>2</th>\n",
              "      <td>3</td>\n",
              "      <td>8</td>\n",
              "    </tr>\n",
              "    <tr>\n",
              "      <th>3</th>\n",
              "      <td>4</td>\n",
              "      <td>5</td>\n",
              "    </tr>\n",
              "    <tr>\n",
              "      <th>4</th>\n",
              "      <td>5</td>\n",
              "      <td>0</td>\n",
              "    </tr>\n",
              "  </tbody>\n",
              "</table>\n",
              "</div>"
            ],
            "text/plain": [
              "   index  lang_id\n",
              "0      1        6\n",
              "1      2        2\n",
              "2      3        8\n",
              "3      4        5\n",
              "4      5        0"
            ]
          },
          "metadata": {},
          "execution_count": 241
        }
      ]
    },
    {
      "cell_type": "code",
      "metadata": {
        "colab": {
          "base_uri": "https://localhost:8080/"
        },
        "id": "brxreSCi5DdH",
        "outputId": "9abedeea-76c2-4b4f-e28e-6376787cd66d"
      },
      "source": [
        "submission[\"lang_id\"].replace({0: 'afr', 1: 'eng', 2: 'nbl', 3: 'nso', 4: 'sot', 5: 'ssw', 6: 'tsn', 7: 'tso', 8: 'ven', 9: 'xho', 10: 'zul'}, inplace=True)\n",
        "print(submission)"
      ],
      "execution_count": 242,
      "outputs": [
        {
          "output_type": "stream",
          "name": "stdout",
          "text": [
            "      index lang_id\n",
            "0         1     tsn\n",
            "1         2     nbl\n",
            "2         3     ven\n",
            "3         4     ssw\n",
            "4         5     afr\n",
            "...     ...     ...\n",
            "5677   5678     eng\n",
            "5678   5679     nso\n",
            "5679   5680     sot\n",
            "5680   5681     sot\n",
            "5681   5682     nbl\n",
            "\n",
            "[5682 rows x 2 columns]\n"
          ]
        }
      ]
    },
    {
      "cell_type": "code",
      "metadata": {
        "colab": {
          "base_uri": "https://localhost:8080/"
        },
        "id": "wiehr85F46J0",
        "outputId": "acf7eecf-074f-4a38-fe43-0190eddd701a"
      },
      "source": [
        "# for Kaggle submisison\n",
        "submission.to_csv('South_Africa_Languages.csv', index=False)\n",
        "print('Submission CSV is ready!')"
      ],
      "execution_count": 243,
      "outputs": [
        {
          "output_type": "stream",
          "name": "stdout",
          "text": [
            "Submission CSV is ready!\n"
          ]
        }
      ]
    },
    {
      "cell_type": "code",
      "metadata": {
        "colab": {
          "base_uri": "https://localhost:8080/",
          "height": 206
        },
        "id": "x45uaFo57Ins",
        "outputId": "b3565276-5b35-4cb3-c781-8f7bab7f186d"
      },
      "source": [
        "# Check the submission csv to make sure it's in the right format\n",
        "submissions_check = pd.read_csv(\"South_Africa_Languages.csv\")\n",
        "submissions_check.head()"
      ],
      "execution_count": 244,
      "outputs": [
        {
          "output_type": "execute_result",
          "data": {
            "text/html": [
              "<div>\n",
              "<style scoped>\n",
              "    .dataframe tbody tr th:only-of-type {\n",
              "        vertical-align: middle;\n",
              "    }\n",
              "\n",
              "    .dataframe tbody tr th {\n",
              "        vertical-align: top;\n",
              "    }\n",
              "\n",
              "    .dataframe thead th {\n",
              "        text-align: right;\n",
              "    }\n",
              "</style>\n",
              "<table border=\"1\" class=\"dataframe\">\n",
              "  <thead>\n",
              "    <tr style=\"text-align: right;\">\n",
              "      <th></th>\n",
              "      <th>index</th>\n",
              "      <th>lang_id</th>\n",
              "    </tr>\n",
              "  </thead>\n",
              "  <tbody>\n",
              "    <tr>\n",
              "      <th>0</th>\n",
              "      <td>1</td>\n",
              "      <td>tsn</td>\n",
              "    </tr>\n",
              "    <tr>\n",
              "      <th>1</th>\n",
              "      <td>2</td>\n",
              "      <td>nbl</td>\n",
              "    </tr>\n",
              "    <tr>\n",
              "      <th>2</th>\n",
              "      <td>3</td>\n",
              "      <td>ven</td>\n",
              "    </tr>\n",
              "    <tr>\n",
              "      <th>3</th>\n",
              "      <td>4</td>\n",
              "      <td>ssw</td>\n",
              "    </tr>\n",
              "    <tr>\n",
              "      <th>4</th>\n",
              "      <td>5</td>\n",
              "      <td>afr</td>\n",
              "    </tr>\n",
              "  </tbody>\n",
              "</table>\n",
              "</div>"
            ],
            "text/plain": [
              "   index lang_id\n",
              "0      1     tsn\n",
              "1      2     nbl\n",
              "2      3     ven\n",
              "3      4     ssw\n",
              "4      5     afr"
            ]
          },
          "metadata": {},
          "execution_count": 244
        }
      ]
    },
    {
      "cell_type": "code",
      "metadata": {
        "colab": {
          "base_uri": "https://localhost:8080/"
        },
        "id": "bZSkIalFSQmA",
        "outputId": "08b6b383-6e85-4415-9974-97b16bbb7177"
      },
      "source": [
        "submission.shape"
      ],
      "execution_count": 245,
      "outputs": [
        {
          "output_type": "execute_result",
          "data": {
            "text/plain": [
              "(5682, 2)"
            ]
          },
          "metadata": {},
          "execution_count": 245
        }
      ]
    },
    {
      "cell_type": "code",
      "metadata": {
        "colab": {
          "base_uri": "https://localhost:8080/",
          "height": 17
        },
        "id": "PV412BAHUGnE",
        "outputId": "25d170cd-2169-4d02-94a5-a271974e93f9"
      },
      "source": [
        "from google.colab import files\n",
        "files.download(\"South_Africa_Languages.csv\")"
      ],
      "execution_count": 253,
      "outputs": [
        {
          "output_type": "display_data",
          "data": {
            "application/javascript": [
              "\n",
              "    async function download(id, filename, size) {\n",
              "      if (!google.colab.kernel.accessAllowed) {\n",
              "        return;\n",
              "      }\n",
              "      const div = document.createElement('div');\n",
              "      const label = document.createElement('label');\n",
              "      label.textContent = `Downloading \"${filename}\": `;\n",
              "      div.appendChild(label);\n",
              "      const progress = document.createElement('progress');\n",
              "      progress.max = size;\n",
              "      div.appendChild(progress);\n",
              "      document.body.appendChild(div);\n",
              "\n",
              "      const buffers = [];\n",
              "      let downloaded = 0;\n",
              "\n",
              "      const channel = await google.colab.kernel.comms.open(id);\n",
              "      // Send a message to notify the kernel that we're ready.\n",
              "      channel.send({})\n",
              "\n",
              "      for await (const message of channel.messages) {\n",
              "        // Send a message to notify the kernel that we're ready.\n",
              "        channel.send({})\n",
              "        if (message.buffers) {\n",
              "          for (const buffer of message.buffers) {\n",
              "            buffers.push(buffer);\n",
              "            downloaded += buffer.byteLength;\n",
              "            progress.value = downloaded;\n",
              "          }\n",
              "        }\n",
              "      }\n",
              "      const blob = new Blob(buffers, {type: 'application/binary'});\n",
              "      const a = document.createElement('a');\n",
              "      a.href = window.URL.createObjectURL(blob);\n",
              "      a.download = filename;\n",
              "      div.appendChild(a);\n",
              "      a.click();\n",
              "      div.remove();\n",
              "    }\n",
              "  "
            ],
            "text/plain": [
              "<IPython.core.display.Javascript object>"
            ]
          },
          "metadata": {}
        },
        {
          "output_type": "display_data",
          "data": {
            "application/javascript": [
              "download(\"download_198dba8c-5d05-4dc4-abee-11b4e6032f45\", \"South_Africa_Languages.csv\", 50045)"
            ],
            "text/plain": [
              "<IPython.core.display.Javascript object>"
            ]
          },
          "metadata": {}
        }
      ]
    }
  ]
}